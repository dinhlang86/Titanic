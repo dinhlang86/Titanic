{
 "cells": [
  {
   "cell_type": "markdown",
   "metadata": {},
   "source": [
    "# --- Import packages and create a spark session ---"
   ]
  },
  {
   "cell_type": "code",
   "execution_count": 101,
   "metadata": {},
   "outputs": [],
   "source": [
    "import pandas as pd\n",
    "import numpy as np\n",
    "from pyspark.sql import SparkSession\n",
    "from pyspark.sql.functions import isnan, when, count, col, regexp_extract, avg, round\n",
    "import matplotlib.pyplot as plt\n",
    "import matplotlib\n",
    "import seaborn as sns\n",
    "import squarify"
   ]
  },
  {
   "cell_type": "markdown",
   "metadata": {},
   "source": [
    "#### Create a SparkSession"
   ]
  },
  {
   "cell_type": "code",
   "execution_count": 2,
   "metadata": {},
   "outputs": [
    {
     "name": "stderr",
     "output_type": "stream",
     "text": [
      "24/04/12 10:27:58 WARN Utils: Your hostname, Tiens-MacBook-Pro.local resolves to a loopback address: 127.0.0.1; using 192.168.20.17 instead (on interface en0)\n",
      "24/04/12 10:27:58 WARN Utils: Set SPARK_LOCAL_IP if you need to bind to another address\n",
      "Setting default log level to \"WARN\".\n",
      "To adjust logging level use sc.setLogLevel(newLevel). For SparkR, use setLogLevel(newLevel).\n",
      "24/04/12 10:27:59 WARN NativeCodeLoader: Unable to load native-hadoop library for your platform... using builtin-java classes where applicable\n"
     ]
    }
   ],
   "source": [
    "spark = SparkSession.builder.appName(\"titanic_spark\").getOrCreate()"
   ]
  },
  {
   "cell_type": "markdown",
   "metadata": {},
   "source": [
    "# --- Load data ---"
   ]
  },
  {
   "cell_type": "markdown",
   "metadata": {},
   "source": [
    "#### Read the datasets"
   ]
  },
  {
   "cell_type": "code",
   "execution_count": 3,
   "metadata": {},
   "outputs": [],
   "source": [
    "train = spark.read.csv(\"./data/train.csv\", header=True, inferSchema=True)\n",
    "test = spark.read.csv(\"./data/test.csv\", header=True, inferSchema=True)"
   ]
  },
  {
   "cell_type": "code",
   "execution_count": null,
   "metadata": {},
   "outputs": [],
   "source": [
    "train.show(5)"
   ]
  },
  {
   "cell_type": "code",
   "execution_count": null,
   "metadata": {},
   "outputs": [],
   "source": [
    "test.show(5)"
   ]
  },
  {
   "cell_type": "markdown",
   "metadata": {},
   "source": [
    "#### Explain the dataset\n",
    "Survived: 0 (No) - 1 (Yes)\n",
    "\n",
    "Pclass: 1 - 2 - 3 (Ticket class)\n",
    "\n",
    "SibSp: (Number of siblings/spouses aboard the Titanic)\n",
    "\n",
    "Parch: (Number of childer aboard the Titanic)\n",
    "\n",
    "Ticket: (Ticket number)\n",
    "\n",
    "Fare: (Passenger fare)\n",
    "\n",
    "Cabin: (Cabin number)\n",
    "\n",
    "Embarked: C (Cherbourg) - S (Southampton) - Q (Queenstown) (Port of embarkation)"
   ]
  },
  {
   "cell_type": "markdown",
   "metadata": {},
   "source": [
    "# --- Preprocess data ---"
   ]
  },
  {
   "cell_type": "markdown",
   "metadata": {},
   "source": [
    "### 1. Preprocess for the train dataset"
   ]
  },
  {
   "cell_type": "markdown",
   "metadata": {},
   "source": [
    "#### Summary statistics for the train dataset"
   ]
  },
  {
   "cell_type": "code",
   "execution_count": null,
   "metadata": {},
   "outputs": [],
   "source": [
    "train.describe().toPandas()"
   ]
  },
  {
   "cell_type": "code",
   "execution_count": null,
   "metadata": {},
   "outputs": [],
   "source": [
    "train.printSchema()"
   ]
  },
  {
   "cell_type": "markdown",
   "metadata": {},
   "source": [
    "#### Count the number of missing values in each column"
   ]
  },
  {
   "cell_type": "code",
   "execution_count": null,
   "metadata": {},
   "outputs": [],
   "source": [
    "train.select([count(when(isnan(c) | col(c).isNull(), c)).alias(c) for c in train.columns]).toPandas()"
   ]
  },
  {
   "cell_type": "markdown",
   "metadata": {},
   "source": [
    "#### Check the total number of rows in the train dataset"
   ]
  },
  {
   "cell_type": "code",
   "execution_count": null,
   "metadata": {},
   "outputs": [],
   "source": [
    "train.count()"
   ]
  },
  {
   "cell_type": "markdown",
   "metadata": {},
   "source": [
    "#### There are a lot of NULL values in the Cabin column, so I decided to drop this column."
   ]
  },
  {
   "cell_type": "code",
   "execution_count": 4,
   "metadata": {},
   "outputs": [],
   "source": [
    "train = train.drop(\"Cabin\")"
   ]
  },
  {
   "cell_type": "markdown",
   "metadata": {},
   "source": [
    "#### Check NULL values for the Embarked column in the train dataset"
   ]
  },
  {
   "cell_type": "code",
   "execution_count": null,
   "metadata": {},
   "outputs": [],
   "source": [
    "train.where(col(\"Embarked\").isNull()).show()"
   ]
  },
  {
   "cell_type": "markdown",
   "metadata": {},
   "source": [
    "#### Find the most frequent value for the Embarked column in the train dataset"
   ]
  },
  {
   "cell_type": "code",
   "execution_count": null,
   "metadata": {},
   "outputs": [],
   "source": [
    "train.groupBy(\"Embarked\").count().show()"
   ]
  },
  {
   "cell_type": "markdown",
   "metadata": {},
   "source": [
    "#### Replace the NULL value in the Embarked column with the most frequent value"
   ]
  },
  {
   "cell_type": "code",
   "execution_count": 5,
   "metadata": {},
   "outputs": [],
   "source": [
    "train = train.na.fill(\"S\", subset=[\"Embarked\"])"
   ]
  },
  {
   "cell_type": "markdown",
   "metadata": {},
   "source": [
    "#### Find the title in the Name column"
   ]
  },
  {
   "cell_type": "code",
   "execution_count": 6,
   "metadata": {},
   "outputs": [
    {
     "name": "stdout",
     "output_type": "stream",
     "text": [
      "+--------+-----+\n",
      "|   Title|count|\n",
      "+--------+-----+\n",
      "|     Don|    1|\n",
      "|    Miss|  182|\n",
      "|Countess|    1|\n",
      "|     Col|    2|\n",
      "|     Rev|    6|\n",
      "|    Lady|    1|\n",
      "|  Master|   40|\n",
      "|     Mme|    1|\n",
      "|    Capt|    1|\n",
      "|      Mr|  517|\n",
      "|      Dr|    7|\n",
      "|     Mrs|  125|\n",
      "|     Sir|    1|\n",
      "|Jonkheer|    1|\n",
      "|    Mlle|    2|\n",
      "|   Major|    2|\n",
      "|      Ms|    1|\n",
      "+--------+-----+\n",
      "\n"
     ]
    }
   ],
   "source": [
    "train = train.withColumn(\"Title\", regexp_extract(col(\"Name\"), \"([A-Za-z]+)\\.\", 1))\n",
    "train.groupBy(\"Title\").count().show()"
   ]
  },
  {
   "cell_type": "markdown",
   "metadata": {},
   "source": [
    "#### Check each Title to find the appropriate Title for replacing"
   ]
  },
  {
   "cell_type": "code",
   "execution_count": null,
   "metadata": {},
   "outputs": [],
   "source": [
    "train.where(col(\"Title\") == 'Don').show()"
   ]
  },
  {
   "cell_type": "markdown",
   "metadata": {},
   "source": [
    "#### -> Change 'Don' title to 'Mr'"
   ]
  },
  {
   "cell_type": "code",
   "execution_count": null,
   "metadata": {},
   "outputs": [],
   "source": [
    "train.where(col(\"Title\") == 'Countess').show()"
   ]
  },
  {
   "cell_type": "markdown",
   "metadata": {},
   "source": [
    "#### -> Change 'Countess' title to Ms"
   ]
  },
  {
   "cell_type": "code",
   "execution_count": null,
   "metadata": {},
   "outputs": [],
   "source": [
    "train.where(col(\"Title\") == 'Col').show()"
   ]
  },
  {
   "cell_type": "markdown",
   "metadata": {},
   "source": [
    "#### -> Change 'Col' title to 'Mr'"
   ]
  },
  {
   "cell_type": "code",
   "execution_count": null,
   "metadata": {},
   "outputs": [],
   "source": [
    "train.where(col(\"Title\") == 'Rev').show()"
   ]
  },
  {
   "cell_type": "markdown",
   "metadata": {},
   "source": [
    "#### -> Change 'Rev' title to 'Mr'"
   ]
  },
  {
   "cell_type": "code",
   "execution_count": null,
   "metadata": {},
   "outputs": [],
   "source": [
    "train.where(col(\"Title\") == 'Mme').show()"
   ]
  },
  {
   "cell_type": "markdown",
   "metadata": {},
   "source": [
    "#### -> Change 'Mme' title to 'Ms'"
   ]
  },
  {
   "cell_type": "code",
   "execution_count": null,
   "metadata": {},
   "outputs": [],
   "source": [
    "train.where(col(\"Title\") == 'Capt').show()"
   ]
  },
  {
   "cell_type": "markdown",
   "metadata": {},
   "source": [
    "#### -> Change 'Capt' title to 'Mr'"
   ]
  },
  {
   "cell_type": "code",
   "execution_count": null,
   "metadata": {},
   "outputs": [],
   "source": [
    "train.where(col(\"Title\") == 'Jonkheer').show()"
   ]
  },
  {
   "cell_type": "markdown",
   "metadata": {},
   "source": [
    "#### -> Change 'Jonkheer' title to 'Mr'"
   ]
  },
  {
   "cell_type": "code",
   "execution_count": null,
   "metadata": {},
   "outputs": [],
   "source": [
    "train.where(col(\"Title\") == 'Mlle').show()"
   ]
  },
  {
   "cell_type": "markdown",
   "metadata": {},
   "source": [
    "#### -> Change 'Mlle' title to 'Ms'"
   ]
  },
  {
   "cell_type": "code",
   "execution_count": null,
   "metadata": {},
   "outputs": [],
   "source": [
    "train.where(col(\"Title\") == 'Major').show()"
   ]
  },
  {
   "cell_type": "markdown",
   "metadata": {},
   "source": [
    "#### -> Change 'Major' title to 'Mr'"
   ]
  },
  {
   "cell_type": "markdown",
   "metadata": {},
   "source": [
    "#### Replace misspelling title values"
   ]
  },
  {
   "cell_type": "code",
   "execution_count": 7,
   "metadata": {},
   "outputs": [
    {
     "name": "stdout",
     "output_type": "stream",
     "text": [
      "+------+-----+\n",
      "| Title|count|\n",
      "+------+-----+\n",
      "|  Miss|  182|\n",
      "|Master|   40|\n",
      "|    Mr|  531|\n",
      "|    Dr|    7|\n",
      "|   Mrs|  125|\n",
      "|    Ms|    6|\n",
      "+------+-----+\n",
      "\n"
     ]
    }
   ],
   "source": [
    "train = train.replace([\"Don\", \"Countess\", \"Col\", \"Rev\", \"Mme\", \"Capt\", \"Jonkheer\", \"Mlle\", \"Major\", \"Sir\", \"Lady\"], \n",
    "                      [\"Mr\", \"Ms\", \"Mr\", \"Mr\", \"Ms\", \"Mr\", \"Mr\", \"Ms\", \"Mr\", \"Mr\", \"Ms\"], \n",
    "                      \"Title\")\n",
    "train.groupBy(\"Title\").count().show()"
   ]
  },
  {
   "cell_type": "markdown",
   "metadata": {},
   "source": [
    "#### Check the Title values matching with the Sex values"
   ]
  },
  {
   "cell_type": "code",
   "execution_count": null,
   "metadata": {},
   "outputs": [],
   "source": [
    "train.groupBy([\"Title\", \"Sex\"]).count().show()"
   ]
  },
  {
   "cell_type": "markdown",
   "metadata": {},
   "source": [
    "#### Calculate the average age for each title"
   ]
  },
  {
   "cell_type": "code",
   "execution_count": 8,
   "metadata": {},
   "outputs": [
    {
     "name": "stderr",
     "output_type": "stream",
     "text": [
      "[Stage 13:>                                                         (0 + 1) / 1]\r"
     ]
    },
    {
     "name": "stdout",
     "output_type": "stream",
     "text": [
      "+------+-------+\n",
      "| Title|Avg_Age|\n",
      "+------+-------+\n",
      "|  Miss|   22.0|\n",
      "|Master|    5.0|\n",
      "|    Mr|   33.0|\n",
      "|    Dr|   42.0|\n",
      "|   Mrs|   36.0|\n",
      "|    Ms|   30.0|\n",
      "+------+-------+\n",
      "\n"
     ]
    },
    {
     "name": "stderr",
     "output_type": "stream",
     "text": [
      "                                                                                \r"
     ]
    }
   ],
   "source": [
    "avg_age_df = spark.createDataFrame(train.groupBy([\"Title\"]).agg(avg(\"Age\").alias(\"Avg_Age\")).toPandas())\n",
    "avg_age_df = avg_age_df.withColumn(\"Avg_Age\", round(avg_age_df[\"Avg_Age\"]).cast(\"double\"))\n",
    "avg_age_df.show()"
   ]
  },
  {
   "cell_type": "markdown",
   "metadata": {},
   "source": [
    "#### Replace the NULL values in the Age column with the average values for each Title"
   ]
  },
  {
   "cell_type": "code",
   "execution_count": 9,
   "metadata": {},
   "outputs": [],
   "source": [
    "for row in avg_age_df.collect():\n",
    "    train = train.withColumn(\"Age\", when((col(\"Title\") == row[\"Title\"]) & (col(\"Age\").isNull()), row[\"Avg_Age\"]).otherwise(col(\"Age\")))"
   ]
  },
  {
   "cell_type": "markdown",
   "metadata": {},
   "source": [
    "### Check NULL values in the train dataset"
   ]
  },
  {
   "cell_type": "code",
   "execution_count": null,
   "metadata": {},
   "outputs": [],
   "source": [
    "train.select([count(when(isnan(c) | col(c).isNull(), c)).alias(c) for c in train.columns]).toPandas()"
   ]
  },
  {
   "cell_type": "markdown",
   "metadata": {},
   "source": [
    "#### Remove unnecessary columns for the analysis"
   ]
  },
  {
   "cell_type": "code",
   "execution_count": 10,
   "metadata": {},
   "outputs": [
    {
     "name": "stdout",
     "output_type": "stream",
     "text": [
      "+--------+------+------+----+-----+-----+-------+--------+\n",
      "|Survived|Pclass|   Sex| Age|SibSp|Parch|   Fare|Embarked|\n",
      "+--------+------+------+----+-----+-----+-------+--------+\n",
      "|       0|     3|  male|22.0|    1|    0|   7.25|       S|\n",
      "|       1|     1|female|38.0|    1|    0|71.2833|       C|\n",
      "|       1|     3|female|26.0|    0|    0|  7.925|       S|\n",
      "|       1|     1|female|35.0|    1|    0|   53.1|       S|\n",
      "|       0|     3|  male|35.0|    0|    0|   8.05|       S|\n",
      "+--------+------+------+----+-----+-----+-------+--------+\n",
      "only showing top 5 rows\n",
      "\n"
     ]
    }
   ],
   "source": [
    "train = train.drop(\"PassengerId\", \"Name\", \"Ticket\", \"Title\")\n",
    "train.show(5)"
   ]
  },
  {
   "cell_type": "markdown",
   "metadata": {},
   "source": [
    "### Preprocess for the test dataset"
   ]
  },
  {
   "cell_type": "code",
   "execution_count": null,
   "metadata": {},
   "outputs": [],
   "source": [
    "test.describe().toPandas()"
   ]
  },
  {
   "cell_type": "markdown",
   "metadata": {},
   "source": [
    "#### Count the number of missing values in each column"
   ]
  },
  {
   "cell_type": "code",
   "execution_count": null,
   "metadata": {},
   "outputs": [],
   "source": [
    "test.select([count(when(isnan(c) | col(c).isNull(), c)).alias(c) for c in test.columns]).toPandas()"
   ]
  },
  {
   "cell_type": "markdown",
   "metadata": {},
   "source": [
    "#### Check the total number of rows in the test dataset"
   ]
  },
  {
   "cell_type": "code",
   "execution_count": null,
   "metadata": {},
   "outputs": [],
   "source": [
    "test.count()"
   ]
  },
  {
   "cell_type": "markdown",
   "metadata": {},
   "source": [
    "#### Remove the Cabin column due to lots of missing values"
   ]
  },
  {
   "cell_type": "code",
   "execution_count": 11,
   "metadata": {},
   "outputs": [
    {
     "name": "stdout",
     "output_type": "stream",
     "text": [
      "+-----------+------+--------------------+------+----+-----+-----+-------+-------+--------+\n",
      "|PassengerId|Pclass|                Name|   Sex| Age|SibSp|Parch| Ticket|   Fare|Embarked|\n",
      "+-----------+------+--------------------+------+----+-----+-----+-------+-------+--------+\n",
      "|        892|     3|    Kelly, Mr. James|  male|34.5|    0|    0| 330911| 7.8292|       Q|\n",
      "|        893|     3|Wilkes, Mrs. Jame...|female|47.0|    1|    0| 363272|    7.0|       S|\n",
      "|        894|     2|Myles, Mr. Thomas...|  male|62.0|    0|    0| 240276| 9.6875|       Q|\n",
      "|        895|     3|    Wirz, Mr. Albert|  male|27.0|    0|    0| 315154| 8.6625|       S|\n",
      "|        896|     3|Hirvonen, Mrs. Al...|female|22.0|    1|    1|3101298|12.2875|       S|\n",
      "+-----------+------+--------------------+------+----+-----+-----+-------+-------+--------+\n",
      "only showing top 5 rows\n",
      "\n"
     ]
    }
   ],
   "source": [
    "test = test.drop(\"Cabin\")\n",
    "test.show(5)"
   ]
  },
  {
   "cell_type": "markdown",
   "metadata": {},
   "source": [
    "#### Check the row with NULL value in the Fare column for the test dataset"
   ]
  },
  {
   "cell_type": "code",
   "execution_count": null,
   "metadata": {},
   "outputs": [],
   "source": [
    "test.where(col(\"Fare\").isNull()).show()"
   ]
  },
  {
   "cell_type": "markdown",
   "metadata": {},
   "source": [
    "#### Replace the NULL value in the Fare column with the average value for Pclass=3, Sex=male, and Embarked=S for the test dataset"
   ]
  },
  {
   "cell_type": "code",
   "execution_count": 12,
   "metadata": {},
   "outputs": [],
   "source": [
    "avg_fare = test.filter(\"Pclass=3 and Sex='male' and Embarked='S'\").agg({\"Fare\": \"avg\"}).collect()[0][0]\n",
    "test = test.na.fill(avg_fare, subset=[\"Fare\"])"
   ]
  },
  {
   "cell_type": "code",
   "execution_count": null,
   "metadata": {},
   "outputs": [],
   "source": [
    "test.where(col(\"Fare\").isNull()).show()"
   ]
  },
  {
   "cell_type": "markdown",
   "metadata": {},
   "source": [
    "#### Find the title in the Name column"
   ]
  },
  {
   "cell_type": "code",
   "execution_count": 13,
   "metadata": {},
   "outputs": [
    {
     "name": "stdout",
     "output_type": "stream",
     "text": [
      "+------+-----+\n",
      "| Title|count|\n",
      "+------+-----+\n",
      "|  Dona|    1|\n",
      "|  Miss|   78|\n",
      "|   Col|    2|\n",
      "|   Rev|    2|\n",
      "|Master|   21|\n",
      "|    Mr|  240|\n",
      "|    Dr|    1|\n",
      "|   Mrs|   72|\n",
      "|    Ms|    1|\n",
      "+------+-----+\n",
      "\n"
     ]
    }
   ],
   "source": [
    "test = test.withColumn(\"Title\", regexp_extract(col(\"Name\"), \"([A-Za-z]+)\\.\", 1))\n",
    "test.groupBy(\"Title\").count().show()"
   ]
  },
  {
   "cell_type": "code",
   "execution_count": null,
   "metadata": {},
   "outputs": [],
   "source": [
    "test.where(col(\"Title\") == 'Dona').show()"
   ]
  },
  {
   "cell_type": "markdown",
   "metadata": {},
   "source": [
    "#### -> Change the 'Dona' title to 'Ms'"
   ]
  },
  {
   "cell_type": "code",
   "execution_count": null,
   "metadata": {},
   "outputs": [],
   "source": [
    "test.where(col(\"Title\") == 'Col').show()"
   ]
  },
  {
   "cell_type": "markdown",
   "metadata": {},
   "source": [
    "#### -> Change the 'Col' title to 'Mr'"
   ]
  },
  {
   "cell_type": "code",
   "execution_count": null,
   "metadata": {},
   "outputs": [],
   "source": [
    "test.where(col(\"Title\") == 'Rev').show()"
   ]
  },
  {
   "cell_type": "markdown",
   "metadata": {},
   "source": [
    "#### -> Change the 'Rev' title to 'Mr'"
   ]
  },
  {
   "cell_type": "code",
   "execution_count": null,
   "metadata": {},
   "outputs": [],
   "source": [
    "test.where(col(\"Title\") == 'Dr').show()"
   ]
  },
  {
   "cell_type": "markdown",
   "metadata": {},
   "source": [
    "#### -> Change the 'Dr' title to 'Mr'"
   ]
  },
  {
   "cell_type": "markdown",
   "metadata": {},
   "source": [
    "#### Replace misspelling title values"
   ]
  },
  {
   "cell_type": "code",
   "execution_count": 14,
   "metadata": {},
   "outputs": [
    {
     "name": "stdout",
     "output_type": "stream",
     "text": [
      "+------+-----+\n",
      "| Title|count|\n",
      "+------+-----+\n",
      "|  Miss|   78|\n",
      "|Master|   21|\n",
      "|    Mr|  245|\n",
      "|   Mrs|   72|\n",
      "|    Ms|    2|\n",
      "+------+-----+\n",
      "\n"
     ]
    }
   ],
   "source": [
    "test = test.replace([\"Dona\", \"Col\", \"Rev\", \"Dr\"], \n",
    "                    [\"Ms\", \"Mr\", \"Mr\", \"Mr\"], \n",
    "                    \"Title\")\n",
    "test.groupBy(\"Title\").count().show()"
   ]
  },
  {
   "cell_type": "markdown",
   "metadata": {},
   "source": [
    "#### Check the Title values matching the the Sex values"
   ]
  },
  {
   "cell_type": "code",
   "execution_count": null,
   "metadata": {},
   "outputs": [],
   "source": [
    "test.groupBy([\"Title\", \"Sex\"]).count().show()"
   ]
  },
  {
   "cell_type": "markdown",
   "metadata": {},
   "source": [
    "#### Calculate the average values for each title"
   ]
  },
  {
   "cell_type": "code",
   "execution_count": 15,
   "metadata": {},
   "outputs": [
    {
     "name": "stdout",
     "output_type": "stream",
     "text": [
      "+------+-------+\n",
      "| Title|Avg_Age|\n",
      "+------+-------+\n",
      "|  Miss|   22.0|\n",
      "|Master|    7.0|\n",
      "|    Mr|   32.0|\n",
      "|   Mrs|   39.0|\n",
      "|    Ms|   39.0|\n",
      "+------+-------+\n",
      "\n"
     ]
    }
   ],
   "source": [
    "avg_age_df_test = spark.createDataFrame(test.groupBy([\"Title\"]).agg(avg(\"Age\").alias(\"Avg_Age\")).toPandas())\n",
    "avg_age_df_test = avg_age_df_test.withColumn(\"Avg_Age\", round(avg_age_df_test[\"Avg_Age\"]).cast(\"double\"))\n",
    "avg_age_df_test.show()"
   ]
  },
  {
   "cell_type": "markdown",
   "metadata": {},
   "source": [
    "#### Replace the NULL values in the Age column with the average age for each title"
   ]
  },
  {
   "cell_type": "code",
   "execution_count": 16,
   "metadata": {},
   "outputs": [],
   "source": [
    "for row in avg_age_df_test.collect():\n",
    "    test = test.withColumn(\"Age\", when((col(\"Title\") == row[\"Title\"]) & (col(\"Age\").isNull()), row[\"Avg_Age\"]).otherwise(col(\"Age\")))"
   ]
  },
  {
   "cell_type": "markdown",
   "metadata": {},
   "source": [
    "#### Check NULL values in the test dataset"
   ]
  },
  {
   "cell_type": "code",
   "execution_count": null,
   "metadata": {},
   "outputs": [],
   "source": [
    "test.select([count(when(isnan(c) | col(c).isNull(), c)).alias(c) for c in test.columns]).toPandas()"
   ]
  },
  {
   "cell_type": "markdown",
   "metadata": {},
   "source": [
    "#### Remove unnecessary columns for the analysis"
   ]
  },
  {
   "cell_type": "code",
   "execution_count": 17,
   "metadata": {},
   "outputs": [
    {
     "name": "stdout",
     "output_type": "stream",
     "text": [
      "+------+------+----+-----+-----+-------+--------+\n",
      "|Pclass|   Sex| Age|SibSp|Parch|   Fare|Embarked|\n",
      "+------+------+----+-----+-----+-------+--------+\n",
      "|     3|  male|34.5|    0|    0| 7.8292|       Q|\n",
      "|     3|female|47.0|    1|    0|    7.0|       S|\n",
      "|     2|  male|62.0|    0|    0| 9.6875|       Q|\n",
      "|     3|  male|27.0|    0|    0| 8.6625|       S|\n",
      "|     3|female|22.0|    1|    1|12.2875|       S|\n",
      "+------+------+----+-----+-----+-------+--------+\n",
      "only showing top 5 rows\n",
      "\n"
     ]
    }
   ],
   "source": [
    "test = test.drop(\"PassengerId\", \"Name\", \"Ticket\", \"Title\")\n",
    "test.show(5)"
   ]
  },
  {
   "cell_type": "markdown",
   "metadata": {},
   "source": [
    "# --- Exploratory Data Analysis ---"
   ]
  },
  {
   "cell_type": "code",
   "execution_count": 18,
   "metadata": {},
   "outputs": [],
   "source": [
    "df_train = train.toPandas()"
   ]
  },
  {
   "cell_type": "code",
   "execution_count": null,
   "metadata": {},
   "outputs": [],
   "source": [
    "sns.set_theme(rc={'axes.facecolor':'#dedad2', 'figure.facecolor':'#d7e1ee'})"
   ]
  },
  {
   "cell_type": "markdown",
   "metadata": {},
   "source": [
    "#### 1. Explore feature 'Pclass'"
   ]
  },
  {
   "cell_type": "code",
   "execution_count": 19,
   "metadata": {},
   "outputs": [],
   "source": [
    "# Show the percentage of each category in the feature\n",
    "def percentage_with_hue(plot, feature, number_of_categories, hue_categories):\n",
    "    patch = [p for p in plot.patches]\n",
    "    ind = 0\n",
    "    for i in range(number_of_categories):\n",
    "        for j in range(hue_categories):\n",
    "            x = patch[(j*number_of_categories + i)].get_x() + patch[(j*number_of_categories + i)].get_width() / 2 - 0.1\n",
    "            y = patch[(j*number_of_categories + i)].get_y() + patch[(j*number_of_categories + i)].get_height()\n",
    "            plot.annotate('{:.2f}%'.format(feature[ind]), (x, y), size = 10)\n",
    "            ind += 1\n",
    "    plt.show()"
   ]
  },
  {
   "cell_type": "code",
   "execution_count": null,
   "metadata": {},
   "outputs": [],
   "source": [
    "# Show the percentage in the feature without category\n",
    "def percentage_without_hue(plot, feature):\n",
    "    total = len(feature)\n",
    "    for p in plot.patches:\n",
    "        percentage = '{:.1f}%'.format(100 * p.get_height()/total)\n",
    "        x = p.get_x() + p.get_width() / 2 - 0.05\n",
    "        y = p.get_y() + p.get_height()\n",
    "        plot.annotate(percentage, (x, y), size = 12)\n",
    "    plt.show()"
   ]
  },
  {
   "cell_type": "code",
   "execution_count": 20,
   "metadata": {},
   "outputs": [
    {
     "data": {
      "image/png": "[encoded data removed]",
      "text/plain": [
       "<Figure size 700x500 with 1 Axes>"
      ]
     },
     "metadata": {},
     "output_type": "display_data"
    }
   ],
   "source": [
    "df_pclass = df_train.groupby(['Pclass', 'Survived']).size().reset_index()\n",
    "df_pclass.rename(columns={0: 'Count'}, inplace=True)\n",
    "df_pclass['Percentage'] = df_train.groupby(['Pclass', 'Survived']).size().groupby(level=0).apply(lambda x: 100 * x / float(x.sum())).values\n",
    "df_pclass['PclassLabel'] = np.where(df_pclass['Pclass'] == 1, 'Class 1', np.where(df_pclass['Pclass'] == 2, 'Class 2', 'Class 3'))\n",
    "df_pclass['SurvivedLabel'] = np.where(df_pclass['Survived'] == 0, 'Not Survived', 'Survived')\n",
    "\n",
    "# Plotting with Seaborn\n",
    "plt.figure(figsize=(7, 5))\n",
    "ax = sns.barplot(data=df_pclass, x='PclassLabel', y='Count', hue='SurvivedLabel', palette=[\"#bd7ebe\", \"#5ad45a\"])\n",
    "plt.title('Survival Rate by Ticket Class', fontsize=15, fontweight='bold')\n",
    "plt.legend(title='', loc='upper left')\n",
    "plt.xlabel('')\n",
    "plt.ylabel('Total Passengers')\n",
    "plt.tight_layout()\n",
    "percentage_with_hue(ax, df_pclass['Percentage'], 3, 2)"
   ]
  },
  {
   "cell_type": "markdown",
   "metadata": {},
   "source": [
    "##### Class 3 had the highest number of passengers. It also indicated that the number of passengers died in Class 3 was significantly higher than other classes. Class 1 had the highest number of survival passengers followed by Class 3 and Class 2."
   ]
  },
  {
   "cell_type": "markdown",
   "metadata": {},
   "source": [
    "#### 2. Explore features 'SibSp'"
   ]
  },
  {
   "cell_type": "code",
   "execution_count": 21,
   "metadata": {},
   "outputs": [
    {
     "data": {
      "image/png": "[encoded data removed]",
      "text/plain": [
       "<Figure size 640x480 with 1 Axes>"
      ]
     },
     "metadata": {},
     "output_type": "display_data"
    }
   ],
   "source": [
    "# Calculate survival rates\n",
    "survival_rates = df_train.groupby('SibSp')['Survived'].mean().reset_index()\n",
    "\n",
    "# Create bar plot using Seaborn\n",
    "ax = sns.barplot(data=survival_rates, x='SibSp', y='Survived', color=\"#5ad45a\")\n",
    "plt.title(\"Survived Probability by number of Siblings or Spouse\", fontsize=15, fontweight='bold')\n",
    "plt.xlabel(\"Number of Siblings or Spouse\")\n",
    "plt.ylabel(\"Survived Probability\")\n",
    "# Show plot\n",
    "plt.show()"
   ]
  },
  {
   "cell_type": "markdown",
   "metadata": {},
   "source": [
    "##### There was a maximum of 8 siblings and spouses traveled along with one of the passenger. With passengers having one sibling or spouse, the survived probability was more than 50%. Passengers traveling with 2 siblings or spouse had the survived probability nearly 50%. The chances of survival dropped drastically if someone traveled with more than 2 siblings or spouse."
   ]
  },
  {
   "cell_type": "markdown",
   "metadata": {},
   "source": [
    "#### 3. Explore feature 'Parch'"
   ]
  },
  {
   "cell_type": "code",
   "execution_count": 22,
   "metadata": {},
   "outputs": [
    {
     "data": {
      "image/png": "[encoded data removed]",
      "text/plain": [
       "<Figure size 640x480 with 1 Axes>"
      ]
     },
     "metadata": {},
     "output_type": "display_data"
    }
   ],
   "source": [
    "# Calculate survival rates\n",
    "survival_rates = df_train.groupby('Parch')['Survived'].mean().reset_index()\n",
    "\n",
    "# Create bar plot using Seaborn\n",
    "sns.barplot(data=survival_rates, x='Parch', y='Survived', color=\"#5ad45a\")\n",
    "plt.title(\"Survived Probability by number of Parent or Children\", fontsize=15, fontweight='bold')\n",
    "plt.xlabel(\"Number of Parent or Children\")\n",
    "plt.ylabel(\"Survived Probability\")\n",
    "\n",
    "# Show plot\n",
    "plt.show()"
   ]
  },
  {
   "cell_type": "markdown",
   "metadata": {},
   "source": [
    "##### Passengers traveled with 1 to 3 Parent or Children had the chance of survival more than 50%, especially with the highest probability for 3 Parent or Children at 60%. With passenger traveled alone, the chance of survival was 34% while the survived probability for 5 Parent or Children was 20%. There was no chance of survival for passengers traveled with 4 or 6 Parent or Children."
   ]
  },
  {
   "cell_type": "markdown",
   "metadata": {},
   "source": [
    "#### 4. Explore feature 'Fare'"
   ]
  },
  {
   "cell_type": "code",
   "execution_count": 30,
   "metadata": {},
   "outputs": [
    {
     "data": {
      "image/png": "[encoded data removed]",
      "text/plain": [
       "<Figure size 1500x1000 with 2 Axes>"
      ]
     },
     "metadata": {},
     "output_type": "display_data"
    }
   ],
   "source": [
    "fig, (axbox, axhist) = plt.subplots(ncols=1, nrows=2, figsize=(15, 10), sharex=True, gridspec_kw={\"height_ratios\": (.2, .8)})\n",
    "fig.suptitle('Survived Distribution by Fare', fontsize=15, fontweight='bold')\n",
    "\n",
    "# Create boxplot\n",
    "sns.boxplot(x='Fare', data=df_train, palette=[\"#bd7ebe\", \"#5ad45a\"], hue='Survived', ax= axbox, gap=.1)\n",
    "\n",
    "# Create histogram\n",
    "ax = sns.histplot(data=df_train, x=\"Fare\", hue=\"Survived\", multiple=\"stack\",\n",
    "            palette=[\"#bd7ebe\", \"#5ad45a\"], binwidth=10, ax=axhist)\n",
    "\n",
    "plt.xlabel(\"Fare\")\n",
    "plt.ylabel(\"Total Passengers\")\n",
    "plt.legend(loc='upper right', labels=['Survived', 'Not Survived'])\n",
    "ax.legend_.set_title(None)\n",
    "axbox.legend_.remove()\n",
    "fig.tight_layout()\n",
    "plt.show()"
   ]
  },
  {
   "cell_type": "markdown",
   "metadata": {},
   "source": [
    "##### There was a strong association between the fare and the survival. The dispersion of survival for passengers paid more money was wider than the dispersion of death. There were some outliers for passengers paid more money but still not survived. The higher the passengers paid, the higher would be their chances to survive."
   ]
  },
  {
   "cell_type": "markdown",
   "metadata": {},
   "source": [
    "#### 5. Explore feature 'Age'"
   ]
  },
  {
   "cell_type": "code",
   "execution_count": 24,
   "metadata": {},
   "outputs": [],
   "source": [
    "def modify_agegroup(age):\n",
    "    if age <= 10:\n",
    "        return \"0-10\"\n",
    "    elif age <= 20 and age > 10:\n",
    "        return \"11-20\"\n",
    "    elif age <= 30 and age > 20:\n",
    "        return \"21-30\"\n",
    "    elif age <=40 and age > 30:\n",
    "        return \"31-40\"\n",
    "    elif age <= 50 and age > 40:\n",
    "        return \"41-50\"\n",
    "    elif age <= 60 and age > 50:\n",
    "        return \"51-60\"\n",
    "    elif age <= 70 and age > 60:\n",
    "        return \"61-70\"\n",
    "    else:\n",
    "        return \"71+\""
   ]
  },
  {
   "cell_type": "code",
   "execution_count": 25,
   "metadata": {},
   "outputs": [],
   "source": [
    "df_train['AgeGroup'] = df_train.apply(lambda x: modify_agegroup(x['Age']), axis=1)"
   ]
  },
  {
   "cell_type": "code",
   "execution_count": 112,
   "metadata": {},
   "outputs": [
    {
     "data": {
      "image/png": "[encoded data removed]",
      "text/plain": [
       "<Figure size 1200x600 with 2 Axes>"
      ]
     },
     "metadata": {},
     "output_type": "display_data"
    }
   ],
   "source": [
    "df_age = df_train.groupby(['AgeGroup', 'Survived']).size().reset_index()\n",
    "df_age.rename(columns={0: 'Count'}, inplace=True)\n",
    "\n",
    "plt.figure(figsize=(12, 6))\n",
    "\n",
    "# Create grouped barplot\n",
    "plt.subplot(1, 2, 1)\n",
    "labels_barplot = ['Not Survived', 'Survived']\n",
    "ax = sns.barplot(data=df_age, x='AgeGroup', y='Count', hue='Survived', palette=[\"#bd7ebe\", \"#5ad45a\"], gap=0.1)\n",
    "h, l = ax.get_legend_handles_labels()\n",
    "ax.legend(h, labels_barplot, title='', loc='upper right')\n",
    "plt.title('Survival Rate by Age Group', fontsize=15, fontweight='bold')\n",
    "plt.xlabel('Age')\n",
    "plt.ylabel('Total Passengers')\n",
    "\n",
    "# Create treemap\n",
    "plt.subplot(1, 2, 2)\n",
    "# Change relative colors based on the number of survived passengers\n",
    "cmap = matplotlib.cm.Greens\n",
    "mini=min(df_age[df_age['Survived'] == 1]['Count'])\n",
    "maxi=max(df_age[df_age['Survived'] == 1]['Count'])\n",
    "norm = matplotlib.colors.Normalize(vmin=mini, vmax=maxi)\n",
    "colors = [cmap(norm(value)) for value in df_age[df_age['Survived'] == 1]['Count']]\n",
    "# Display the percentage of survived passengers in each age group\n",
    "perc_survived = [f'{i/df_age[df_age[\"Survived\"] == 1][\"Count\"].sum()*100:5.2f}%' for i in df_age[df_age['Survived'] == 1]['Count']]\n",
    "labels_treemap = [f'{df_age[df_age[\"Survived\"] == 1][\"AgeGroup\"].iloc[i]}: {perc_survived[i]}' for i in range(len(df_age[df_age['Survived'] == 1]))]\n",
    "squarify.plot(sizes=df_age[df_age['Survived'] == 1]['Count'], label=labels_treemap, \n",
    "              alpha=.6, color=colors)\n",
    "plt.title('Survived Distribution by Age Group', fontsize=15, fontweight='bold')\n",
    "plt.axis('off')\n",
    "\n",
    "plt.tight_layout()\n",
    "plt.show()"
   ]
  },
  {
   "cell_type": "markdown",
   "metadata": {},
   "source": [
    "##### The change of survival for passengers with age below 10 compared to not survival was significantly higher than other groups. The most passengers onboard in between 21 to 40 year-old, and the chance of survival for these groups was nearly equal the death. Based on the survived group, the age between 21 and 30 had the rate of survival higher than the other groups at 30.99%, and follow by the age between 31 and 40 at 28.36%. With older passengers over 60 year olds, the chance of survival was low."
   ]
  },
  {
   "cell_type": "markdown",
   "metadata": {},
   "source": [
    "#### 6. Explore feature 'Gender'"
   ]
  },
  {
   "cell_type": "code",
   "execution_count": null,
   "metadata": {},
   "outputs": [],
   "source": []
  }
 ],
 "metadata": {
  "kernelspec": {
   "display_name": ".venv",
   "language": "python",
   "name": "python3"
  },
  "language_info": {
   "codemirror_mode": {
    "name": "ipython",
    "version": 3
   },
   "file_extension": ".py",
   "mimetype": "text/x-python",
   "name": "python",
   "nbconvert_exporter": "python",
   "pygments_lexer": "ipython3",
   "version": "3.9.13"
  }
 },
 "nbformat": 4,
 "nbformat_minor": 2
}
