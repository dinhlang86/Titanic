{
 "cells": [
  {
   "cell_type": "markdown",
   "metadata": {},
   "source": [
    "# --- Import packages and create a spark session ---"
   ]
  },
  {
   "cell_type": "code",
   "execution_count": 1,
   "metadata": {},
   "outputs": [
    {
     "name": "stderr",
     "output_type": "stream",
     "text": [
      "/var/folders/1q/r_646xk57qd880jhpl1xmnrw0000gn/T/ipykernel_1583/660672066.py:1: DeprecationWarning: \n",
      "Pyarrow will become a required dependency of pandas in the next major release of pandas (pandas 3.0),\n",
      "(to allow more performant data types, such as the Arrow string type, and better interoperability with other libraries)\n",
      "but was not found to be installed on your system.\n",
      "If this would cause problems for you,\n",
      "please provide us feedback at https://github.com/pandas-dev/pandas/issues/54466\n",
      "        \n",
      "  import pandas as pd\n"
     ]
    }
   ],
   "source": [
    "import pandas as pd\n",
    "import numpy as np\n",
    "from pyspark.sql import SparkSession\n",
    "from pyspark.sql.functions import isnan, when, count, col, regexp_extract, avg, round\n",
    "import matplotlib.pyplot as plt\n",
    "import matplotlib\n",
    "import seaborn as sns\n",
    "import squarify"
   ]
  },
  {
   "cell_type": "markdown",
   "metadata": {},
   "source": [
    "#### Create a SparkSession"
   ]
  },
  {
   "cell_type": "code",
   "execution_count": 2,
   "metadata": {},
   "outputs": [
    {
     "name": "stderr",
     "output_type": "stream",
     "text": [
      "Setting default log level to \"WARN\".\n",
      "To adjust logging level use sc.setLogLevel(newLevel). For SparkR, use setLogLevel(newLevel).\n",
      "24/04/16 09:22:31 WARN NativeCodeLoader: Unable to load native-hadoop library for your platform... using builtin-java classes where applicable\n"
     ]
    }
   ],
   "source": [
    "spark = SparkSession.builder.appName(\"titanic_spark\").getOrCreate()"
   ]
  },
  {
   "cell_type": "markdown",
   "metadata": {},
   "source": [
    "# --- Load data ---"
   ]
  },
  {
   "cell_type": "markdown",
   "metadata": {},
   "source": [
    "#### Read the datasets"
   ]
  },
  {
   "cell_type": "code",
   "execution_count": 3,
   "metadata": {},
   "outputs": [],
   "source": [
    "train = spark.read.csv(\"./data/train.csv\", header=True, inferSchema=True)\n",
    "test = spark.read.csv(\"./data/test.csv\", header=True, inferSchema=True)"
   ]
  },
  {
   "cell_type": "code",
   "execution_count": 4,
   "metadata": {},
   "outputs": [
    {
     "name": "stdout",
     "output_type": "stream",
     "text": [
      "+-----------+--------+------+--------------------+------+----+-----+-----+----------------+-------+-----+--------+\n",
      "|PassengerId|Survived|Pclass|                Name|   Sex| Age|SibSp|Parch|          Ticket|   Fare|Cabin|Embarked|\n",
      "+-----------+--------+------+--------------------+------+----+-----+-----+----------------+-------+-----+--------+\n",
      "|          1|       0|     3|Braund, Mr. Owen ...|  male|22.0|    1|    0|       A/5 21171|   7.25| NULL|       S|\n",
      "|          2|       1|     1|Cumings, Mrs. Joh...|female|38.0|    1|    0|        PC 17599|71.2833|  C85|       C|\n",
      "|          3|       1|     3|Heikkinen, Miss. ...|female|26.0|    0|    0|STON/O2. 3101282|  7.925| NULL|       S|\n",
      "|          4|       1|     1|Futrelle, Mrs. Ja...|female|35.0|    1|    0|          113803|   53.1| C123|       S|\n",
      "|          5|       0|     3|Allen, Mr. Willia...|  male|35.0|    0|    0|          373450|   8.05| NULL|       S|\n",
      "+-----------+--------+------+--------------------+------+----+-----+-----+----------------+-------+-----+--------+\n",
      "only showing top 5 rows\n",
      "\n"
     ]
    }
   ],
   "source": [
    "train.show(5)"
   ]
  },
  {
   "cell_type": "code",
   "execution_count": 5,
   "metadata": {},
   "outputs": [
    {
     "name": "stdout",
     "output_type": "stream",
     "text": [
      "+-----------+------+--------------------+------+----+-----+-----+-------+-------+-----+--------+\n",
      "|PassengerId|Pclass|                Name|   Sex| Age|SibSp|Parch| Ticket|   Fare|Cabin|Embarked|\n",
      "+-----------+------+--------------------+------+----+-----+-----+-------+-------+-----+--------+\n",
      "|        892|     3|    Kelly, Mr. James|  male|34.5|    0|    0| 330911| 7.8292| NULL|       Q|\n",
      "|        893|     3|Wilkes, Mrs. Jame...|female|47.0|    1|    0| 363272|    7.0| NULL|       S|\n",
      "|        894|     2|Myles, Mr. Thomas...|  male|62.0|    0|    0| 240276| 9.6875| NULL|       Q|\n",
      "|        895|     3|    Wirz, Mr. Albert|  male|27.0|    0|    0| 315154| 8.6625| NULL|       S|\n",
      "|        896|     3|Hirvonen, Mrs. Al...|female|22.0|    1|    1|3101298|12.2875| NULL|       S|\n",
      "+-----------+------+--------------------+------+----+-----+-----+-------+-------+-----+--------+\n",
      "only showing top 5 rows\n",
      "\n"
     ]
    }
   ],
   "source": [
    "test.show(5)"
   ]
  },
  {
   "cell_type": "markdown",
   "metadata": {},
   "source": [
    "#### Explain the dataset\n",
    "Survived: 0 (No) - 1 (Yes)\n",
    "\n",
    "Pclass: 1 - 2 - 3 (Ticket class)\n",
    "\n",
    "SibSp: (Number of siblings/spouses aboard the Titanic)\n",
    "\n",
    "Parch: (Number of childer aboard the Titanic)\n",
    "\n",
    "Ticket: (Ticket number)\n",
    "\n",
    "Fare: (Passenger fare)\n",
    "\n",
    "Cabin: (Cabin number)\n",
    "\n",
    "Embarked: C (Cherbourg) - S (Southampton) - Q (Queenstown) (Port of embarkation)"
   ]
  },
  {
   "cell_type": "markdown",
   "metadata": {},
   "source": [
    "# --- Preprocess data ---"
   ]
  },
  {
   "cell_type": "markdown",
   "metadata": {},
   "source": [
    "### 1. Preprocess for the train dataset"
   ]
  },
  {
   "cell_type": "markdown",
   "metadata": {},
   "source": [
    "#### Summary statistics for the train dataset"
   ]
  },
  {
   "cell_type": "code",
   "execution_count": 6,
   "metadata": {},
   "outputs": [
    {
     "name": "stderr",
     "output_type": "stream",
     "text": [
      "24/04/16 09:22:53 WARN SparkStringUtils: Truncated the string representation of a plan since it was too large. This behavior can be adjusted by setting 'spark.sql.debug.maxToStringFields'.\n",
      "                                                                                \r"
     ]
    },
    {
     "data": {
      "text/html": [
       "<div>\n",
       "<style scoped>\n",
       "    .dataframe tbody tr th:only-of-type {\n",
       "        vertical-align: middle;\n",
       "    }\n",
       "\n",
       "    .dataframe tbody tr th {\n",
       "        vertical-align: top;\n",
       "    }\n",
       "\n",
       "    .dataframe thead th {\n",
       "        text-align: right;\n",
       "    }\n",
       "</style>\n",
       "<table border=\"1\" class=\"dataframe\">\n",
       "  <thead>\n",
       "    <tr style=\"text-align: right;\">\n",
       "      <th></th>\n",
       "      <th>summary</th>\n",
       "      <th>PassengerId</th>\n",
       "      <th>Survived</th>\n",
       "      <th>Pclass</th>\n",
       "      <th>Name</th>\n",
       "      <th>Sex</th>\n",
       "      <th>Age</th>\n",
       "      <th>SibSp</th>\n",
       "      <th>Parch</th>\n",
       "      <th>Ticket</th>\n",
       "      <th>Fare</th>\n",
       "      <th>Cabin</th>\n",
       "      <th>Embarked</th>\n",
       "    </tr>\n",
       "  </thead>\n",
       "  <tbody>\n",
       "    <tr>\n",
       "      <th>0</th>\n",
       "      <td>count</td>\n",
       "      <td>891</td>\n",
       "      <td>891</td>\n",
       "      <td>891</td>\n",
       "      <td>891</td>\n",
       "      <td>891</td>\n",
       "      <td>714</td>\n",
       "      <td>891</td>\n",
       "      <td>891</td>\n",
       "      <td>891</td>\n",
       "      <td>891</td>\n",
       "      <td>204</td>\n",
       "      <td>889</td>\n",
       "    </tr>\n",
       "    <tr>\n",
       "      <th>1</th>\n",
       "      <td>mean</td>\n",
       "      <td>446.0</td>\n",
       "      <td>0.3838383838383838</td>\n",
       "      <td>2.308641975308642</td>\n",
       "      <td>None</td>\n",
       "      <td>None</td>\n",
       "      <td>29.69911764705882</td>\n",
       "      <td>0.5230078563411896</td>\n",
       "      <td>0.38159371492704824</td>\n",
       "      <td>260318.54916792738</td>\n",
       "      <td>32.2042079685746</td>\n",
       "      <td>None</td>\n",
       "      <td>None</td>\n",
       "    </tr>\n",
       "    <tr>\n",
       "      <th>2</th>\n",
       "      <td>stddev</td>\n",
       "      <td>257.3538420152301</td>\n",
       "      <td>0.48659245426485753</td>\n",
       "      <td>0.8360712409770491</td>\n",
       "      <td>None</td>\n",
       "      <td>None</td>\n",
       "      <td>14.526497332334035</td>\n",
       "      <td>1.1027434322934315</td>\n",
       "      <td>0.8060572211299488</td>\n",
       "      <td>471609.26868834975</td>\n",
       "      <td>49.69342859718089</td>\n",
       "      <td>None</td>\n",
       "      <td>None</td>\n",
       "    </tr>\n",
       "    <tr>\n",
       "      <th>3</th>\n",
       "      <td>min</td>\n",
       "      <td>1</td>\n",
       "      <td>0</td>\n",
       "      <td>1</td>\n",
       "      <td>\"Andersson, Mr. August Edvard (\"\"Wennerstrom\"\")\"</td>\n",
       "      <td>female</td>\n",
       "      <td>0.42</td>\n",
       "      <td>0</td>\n",
       "      <td>0</td>\n",
       "      <td>110152</td>\n",
       "      <td>0.0</td>\n",
       "      <td>A10</td>\n",
       "      <td>C</td>\n",
       "    </tr>\n",
       "    <tr>\n",
       "      <th>4</th>\n",
       "      <td>max</td>\n",
       "      <td>891</td>\n",
       "      <td>1</td>\n",
       "      <td>3</td>\n",
       "      <td>van Melkebeke, Mr. Philemon</td>\n",
       "      <td>male</td>\n",
       "      <td>80.0</td>\n",
       "      <td>8</td>\n",
       "      <td>6</td>\n",
       "      <td>WE/P 5735</td>\n",
       "      <td>512.3292</td>\n",
       "      <td>T</td>\n",
       "      <td>S</td>\n",
       "    </tr>\n",
       "  </tbody>\n",
       "</table>\n",
       "</div>"
      ],
      "text/plain": [
       "  summary        PassengerId             Survived              Pclass  \\\n",
       "0   count                891                  891                 891   \n",
       "1    mean              446.0   0.3838383838383838   2.308641975308642   \n",
       "2  stddev  257.3538420152301  0.48659245426485753  0.8360712409770491   \n",
       "3     min                  1                    0                   1   \n",
       "4     max                891                    1                   3   \n",
       "\n",
       "                                               Name     Sex  \\\n",
       "0                                               891     891   \n",
       "1                                              None    None   \n",
       "2                                              None    None   \n",
       "3  \"Andersson, Mr. August Edvard (\"\"Wennerstrom\"\")\"  female   \n",
       "4                       van Melkebeke, Mr. Philemon    male   \n",
       "\n",
       "                  Age               SibSp                Parch  \\\n",
       "0                 714                 891                  891   \n",
       "1   29.69911764705882  0.5230078563411896  0.38159371492704824   \n",
       "2  14.526497332334035  1.1027434322934315   0.8060572211299488   \n",
       "3                0.42                   0                    0   \n",
       "4                80.0                   8                    6   \n",
       "\n",
       "               Ticket               Fare Cabin Embarked  \n",
       "0                 891                891   204      889  \n",
       "1  260318.54916792738   32.2042079685746  None     None  \n",
       "2  471609.26868834975  49.69342859718089  None     None  \n",
       "3              110152                0.0   A10        C  \n",
       "4           WE/P 5735           512.3292     T        S  "
      ]
     },
     "execution_count": 6,
     "metadata": {},
     "output_type": "execute_result"
    }
   ],
   "source": [
    "train.describe().toPandas()"
   ]
  },
  {
   "cell_type": "code",
   "execution_count": 7,
   "metadata": {},
   "outputs": [
    {
     "name": "stdout",
     "output_type": "stream",
     "text": [
      "root\n",
      " |-- PassengerId: integer (nullable = true)\n",
      " |-- Survived: integer (nullable = true)\n",
      " |-- Pclass: integer (nullable = true)\n",
      " |-- Name: string (nullable = true)\n",
      " |-- Sex: string (nullable = true)\n",
      " |-- Age: double (nullable = true)\n",
      " |-- SibSp: integer (nullable = true)\n",
      " |-- Parch: integer (nullable = true)\n",
      " |-- Ticket: string (nullable = true)\n",
      " |-- Fare: double (nullable = true)\n",
      " |-- Cabin: string (nullable = true)\n",
      " |-- Embarked: string (nullable = true)\n",
      "\n"
     ]
    }
   ],
   "source": [
    "train.printSchema()"
   ]
  },
  {
   "cell_type": "markdown",
   "metadata": {},
   "source": [
    "#### Count the number of missing values in each column"
   ]
  },
  {
   "cell_type": "code",
   "execution_count": 8,
   "metadata": {},
   "outputs": [
    {
     "data": {
      "text/html": [
       "<div>\n",
       "<style scoped>\n",
       "    .dataframe tbody tr th:only-of-type {\n",
       "        vertical-align: middle;\n",
       "    }\n",
       "\n",
       "    .dataframe tbody tr th {\n",
       "        vertical-align: top;\n",
       "    }\n",
       "\n",
       "    .dataframe thead th {\n",
       "        text-align: right;\n",
       "    }\n",
       "</style>\n",
       "<table border=\"1\" class=\"dataframe\">\n",
       "  <thead>\n",
       "    <tr style=\"text-align: right;\">\n",
       "      <th></th>\n",
       "      <th>PassengerId</th>\n",
       "      <th>Survived</th>\n",
       "      <th>Pclass</th>\n",
       "      <th>Name</th>\n",
       "      <th>Sex</th>\n",
       "      <th>Age</th>\n",
       "      <th>SibSp</th>\n",
       "      <th>Parch</th>\n",
       "      <th>Ticket</th>\n",
       "      <th>Fare</th>\n",
       "      <th>Cabin</th>\n",
       "      <th>Embarked</th>\n",
       "    </tr>\n",
       "  </thead>\n",
       "  <tbody>\n",
       "    <tr>\n",
       "      <th>0</th>\n",
       "      <td>0</td>\n",
       "      <td>0</td>\n",
       "      <td>0</td>\n",
       "      <td>0</td>\n",
       "      <td>0</td>\n",
       "      <td>177</td>\n",
       "      <td>0</td>\n",
       "      <td>0</td>\n",
       "      <td>0</td>\n",
       "      <td>0</td>\n",
       "      <td>687</td>\n",
       "      <td>2</td>\n",
       "    </tr>\n",
       "  </tbody>\n",
       "</table>\n",
       "</div>"
      ],
      "text/plain": [
       "   PassengerId  Survived  Pclass  Name  Sex  Age  SibSp  Parch  Ticket  Fare  \\\n",
       "0            0         0       0     0    0  177      0      0       0     0   \n",
       "\n",
       "   Cabin  Embarked  \n",
       "0    687         2  "
      ]
     },
     "execution_count": 8,
     "metadata": {},
     "output_type": "execute_result"
    }
   ],
   "source": [
    "train.select([count(when(isnan(c) | col(c).isNull(), c)).alias(c) for c in train.columns]).toPandas()"
   ]
  },
  {
   "cell_type": "markdown",
   "metadata": {},
   "source": [
    "#### Check the total number of rows in the train dataset"
   ]
  },
  {
   "cell_type": "code",
   "execution_count": 9,
   "metadata": {},
   "outputs": [
    {
     "data": {
      "text/plain": [
       "891"
      ]
     },
     "execution_count": 9,
     "metadata": {},
     "output_type": "execute_result"
    }
   ],
   "source": [
    "train.count()"
   ]
  },
  {
   "cell_type": "markdown",
   "metadata": {},
   "source": [
    "#### There are a lot of NULL values in the Cabin column, so I decided to drop this column."
   ]
  },
  {
   "cell_type": "code",
   "execution_count": 10,
   "metadata": {},
   "outputs": [],
   "source": [
    "train = train.drop(\"Cabin\")"
   ]
  },
  {
   "cell_type": "markdown",
   "metadata": {},
   "source": [
    "#### Check NULL values for the Embarked column in the train dataset"
   ]
  },
  {
   "cell_type": "code",
   "execution_count": 11,
   "metadata": {},
   "outputs": [
    {
     "name": "stdout",
     "output_type": "stream",
     "text": [
      "+-----------+--------+------+--------------------+------+----+-----+-----+------+----+--------+\n",
      "|PassengerId|Survived|Pclass|                Name|   Sex| Age|SibSp|Parch|Ticket|Fare|Embarked|\n",
      "+-----------+--------+------+--------------------+------+----+-----+-----+------+----+--------+\n",
      "|         62|       1|     1| Icard, Miss. Amelie|female|38.0|    0|    0|113572|80.0|    NULL|\n",
      "|        830|       1|     1|Stone, Mrs. Georg...|female|62.0|    0|    0|113572|80.0|    NULL|\n",
      "+-----------+--------+------+--------------------+------+----+-----+-----+------+----+--------+\n",
      "\n"
     ]
    }
   ],
   "source": [
    "train.where(col(\"Embarked\").isNull()).show()"
   ]
  },
  {
   "cell_type": "markdown",
   "metadata": {},
   "source": [
    "#### Find the most frequent value for the Embarked column in the train dataset"
   ]
  },
  {
   "cell_type": "code",
   "execution_count": 12,
   "metadata": {},
   "outputs": [
    {
     "name": "stdout",
     "output_type": "stream",
     "text": [
      "+--------+-----+\n",
      "|Embarked|count|\n",
      "+--------+-----+\n",
      "|       Q|   77|\n",
      "|    NULL|    2|\n",
      "|       C|  168|\n",
      "|       S|  644|\n",
      "+--------+-----+\n",
      "\n"
     ]
    }
   ],
   "source": [
    "train.groupBy(\"Embarked\").count().show()"
   ]
  },
  {
   "cell_type": "markdown",
   "metadata": {},
   "source": [
    "#### Replace the NULL value in the Embarked column with the most frequent value"
   ]
  },
  {
   "cell_type": "code",
   "execution_count": 13,
   "metadata": {},
   "outputs": [],
   "source": [
    "train = train.na.fill(\"S\", subset=[\"Embarked\"])"
   ]
  },
  {
   "cell_type": "markdown",
   "metadata": {},
   "source": [
    "#### Find the title in the Name column"
   ]
  },
  {
   "cell_type": "code",
   "execution_count": 14,
   "metadata": {},
   "outputs": [
    {
     "name": "stdout",
     "output_type": "stream",
     "text": [
      "+--------+-----+\n",
      "|   Title|count|\n",
      "+--------+-----+\n",
      "|     Don|    1|\n",
      "|    Miss|  182|\n",
      "|Countess|    1|\n",
      "|     Col|    2|\n",
      "|     Rev|    6|\n",
      "|    Lady|    1|\n",
      "|  Master|   40|\n",
      "|     Mme|    1|\n",
      "|    Capt|    1|\n",
      "|      Mr|  517|\n",
      "|      Dr|    7|\n",
      "|     Mrs|  125|\n",
      "|     Sir|    1|\n",
      "|Jonkheer|    1|\n",
      "|    Mlle|    2|\n",
      "|   Major|    2|\n",
      "|      Ms|    1|\n",
      "+--------+-----+\n",
      "\n"
     ]
    }
   ],
   "source": [
    "train = train.withColumn(\"Title\", regexp_extract(col(\"Name\"), \"([A-Za-z]+)\\.\", 1))\n",
    "train.groupBy(\"Title\").count().show()"
   ]
  },
  {
   "cell_type": "markdown",
   "metadata": {},
   "source": [
    "#### Check each Title to find the appropriate Title for replacing"
   ]
  },
  {
   "cell_type": "code",
   "execution_count": 15,
   "metadata": {},
   "outputs": [
    {
     "name": "stdout",
     "output_type": "stream",
     "text": [
      "+-----------+--------+------+--------------------+----+----+-----+-----+--------+-------+--------+-----+\n",
      "|PassengerId|Survived|Pclass|                Name| Sex| Age|SibSp|Parch|  Ticket|   Fare|Embarked|Title|\n",
      "+-----------+--------+------+--------------------+----+----+-----+-----+--------+-------+--------+-----+\n",
      "|         31|       0|     1|Uruchurtu, Don. M...|male|40.0|    0|    0|PC 17601|27.7208|       C|  Don|\n",
      "+-----------+--------+------+--------------------+----+----+-----+-----+--------+-------+--------+-----+\n",
      "\n"
     ]
    }
   ],
   "source": [
    "train.where(col(\"Title\") == 'Don').show()"
   ]
  },
  {
   "cell_type": "markdown",
   "metadata": {},
   "source": [
    "#### -> Change 'Don' title to 'Mr'"
   ]
  },
  {
   "cell_type": "code",
   "execution_count": 16,
   "metadata": {},
   "outputs": [
    {
     "name": "stdout",
     "output_type": "stream",
     "text": [
      "+-----------+--------+------+--------------------+------+----+-----+-----+------+----+--------+--------+\n",
      "|PassengerId|Survived|Pclass|                Name|   Sex| Age|SibSp|Parch|Ticket|Fare|Embarked|   Title|\n",
      "+-----------+--------+------+--------------------+------+----+-----+-----+------+----+--------+--------+\n",
      "|        760|       1|     1|Rothes, the Count...|female|33.0|    0|    0|110152|86.5|       S|Countess|\n",
      "+-----------+--------+------+--------------------+------+----+-----+-----+------+----+--------+--------+\n",
      "\n"
     ]
    }
   ],
   "source": [
    "train.where(col(\"Title\") == 'Countess').show()"
   ]
  },
  {
   "cell_type": "markdown",
   "metadata": {},
   "source": [
    "#### -> Change 'Countess' title to Ms"
   ]
  },
  {
   "cell_type": "code",
   "execution_count": 17,
   "metadata": {},
   "outputs": [
    {
     "name": "stdout",
     "output_type": "stream",
     "text": [
      "+-----------+--------+------+--------------------+----+----+-----+-----+------+-----+--------+-----+\n",
      "|PassengerId|Survived|Pclass|                Name| Sex| Age|SibSp|Parch|Ticket| Fare|Embarked|Title|\n",
      "+-----------+--------+------+--------------------+----+----+-----+-----+------+-----+--------+-----+\n",
      "|        648|       1|     1|Simonius-Blumer, ...|male|56.0|    0|    0| 13213| 35.5|       C|  Col|\n",
      "|        695|       0|     1|     Weir, Col. John|male|60.0|    0|    0|113800|26.55|       S|  Col|\n",
      "+-----------+--------+------+--------------------+----+----+-----+-----+------+-----+--------+-----+\n",
      "\n"
     ]
    }
   ],
   "source": [
    "train.where(col(\"Title\") == 'Col').show()"
   ]
  },
  {
   "cell_type": "markdown",
   "metadata": {},
   "source": [
    "#### -> Change 'Col' title to 'Mr'"
   ]
  },
  {
   "cell_type": "code",
   "execution_count": 18,
   "metadata": {},
   "outputs": [
    {
     "name": "stdout",
     "output_type": "stream",
     "text": [
      "+-----------+--------+------+--------------------+----+----+-----+-----+-----------+------+--------+-----+\n",
      "|PassengerId|Survived|Pclass|                Name| Sex| Age|SibSp|Parch|     Ticket|  Fare|Embarked|Title|\n",
      "+-----------+--------+------+--------------------+----+----+-----+-----+-----------+------+--------+-----+\n",
      "|        150|       0|     2|Byles, Rev. Thoma...|male|42.0|    0|    0|     244310|  13.0|       S|  Rev|\n",
      "|        151|       0|     2|Bateman, Rev. Rob...|male|51.0|    0|    0|S.O.P. 1166|12.525|       S|  Rev|\n",
      "|        250|       0|     2|Carter, Rev. Erne...|male|54.0|    1|    0|     244252|  26.0|       S|  Rev|\n",
      "|        627|       0|     2|Kirkland, Rev. Ch...|male|57.0|    0|    0|     219533| 12.35|       Q|  Rev|\n",
      "|        849|       0|     2|   Harper, Rev. John|male|28.0|    0|    1|     248727|  33.0|       S|  Rev|\n",
      "|        887|       0|     2|Montvila, Rev. Ju...|male|27.0|    0|    0|     211536|  13.0|       S|  Rev|\n",
      "+-----------+--------+------+--------------------+----+----+-----+-----+-----------+------+--------+-----+\n",
      "\n"
     ]
    }
   ],
   "source": [
    "train.where(col(\"Title\") == 'Rev').show()"
   ]
  },
  {
   "cell_type": "markdown",
   "metadata": {},
   "source": [
    "#### -> Change 'Rev' title to 'Mr'"
   ]
  },
  {
   "cell_type": "code",
   "execution_count": 19,
   "metadata": {},
   "outputs": [
    {
     "name": "stdout",
     "output_type": "stream",
     "text": [
      "+-----------+--------+------+--------------------+------+----+-----+-----+--------+----+--------+-----+\n",
      "|PassengerId|Survived|Pclass|                Name|   Sex| Age|SibSp|Parch|  Ticket|Fare|Embarked|Title|\n",
      "+-----------+--------+------+--------------------+------+----+-----+-----+--------+----+--------+-----+\n",
      "|        370|       1|     1|Aubart, Mme. Leon...|female|24.0|    0|    0|PC 17477|69.3|       C|  Mme|\n",
      "+-----------+--------+------+--------------------+------+----+-----+-----+--------+----+--------+-----+\n",
      "\n"
     ]
    }
   ],
   "source": [
    "train.where(col(\"Title\") == 'Mme').show()"
   ]
  },
  {
   "cell_type": "markdown",
   "metadata": {},
   "source": [
    "#### -> Change 'Mme' title to 'Ms'"
   ]
  },
  {
   "cell_type": "code",
   "execution_count": 20,
   "metadata": {},
   "outputs": [
    {
     "name": "stdout",
     "output_type": "stream",
     "text": [
      "+-----------+--------+------+--------------------+----+----+-----+-----+---------+----+--------+-----+\n",
      "|PassengerId|Survived|Pclass|                Name| Sex| Age|SibSp|Parch|   Ticket|Fare|Embarked|Title|\n",
      "+-----------+--------+------+--------------------+----+----+-----+-----+---------+----+--------+-----+\n",
      "|        746|       0|     1|Crosby, Capt. Edw...|male|70.0|    1|    1|WE/P 5735|71.0|       S| Capt|\n",
      "+-----------+--------+------+--------------------+----+----+-----+-----+---------+----+--------+-----+\n",
      "\n"
     ]
    }
   ],
   "source": [
    "train.where(col(\"Title\") == 'Capt').show()"
   ]
  },
  {
   "cell_type": "markdown",
   "metadata": {},
   "source": [
    "#### -> Change 'Capt' title to 'Mr'"
   ]
  },
  {
   "cell_type": "code",
   "execution_count": 21,
   "metadata": {},
   "outputs": [
    {
     "name": "stdout",
     "output_type": "stream",
     "text": [
      "+-----------+--------+------+--------------------+----+----+-----+-----+------+----+--------+--------+\n",
      "|PassengerId|Survived|Pclass|                Name| Sex| Age|SibSp|Parch|Ticket|Fare|Embarked|   Title|\n",
      "+-----------+--------+------+--------------------+----+----+-----+-----+------+----+--------+--------+\n",
      "|        823|       0|     1|Reuchlin, Jonkhee...|male|38.0|    0|    0| 19972| 0.0|       S|Jonkheer|\n",
      "+-----------+--------+------+--------------------+----+----+-----+-----+------+----+--------+--------+\n",
      "\n"
     ]
    }
   ],
   "source": [
    "train.where(col(\"Title\") == 'Jonkheer').show()"
   ]
  },
  {
   "cell_type": "markdown",
   "metadata": {},
   "source": [
    "#### -> Change 'Jonkheer' title to 'Mr'"
   ]
  },
  {
   "cell_type": "code",
   "execution_count": 22,
   "metadata": {},
   "outputs": [
    {
     "name": "stdout",
     "output_type": "stream",
     "text": [
      "+-----------+--------+------+--------------------+------+----+-----+-----+--------+-------+--------+-----+\n",
      "|PassengerId|Survived|Pclass|                Name|   Sex| Age|SibSp|Parch|  Ticket|   Fare|Embarked|Title|\n",
      "+-----------+--------+------+--------------------+------+----+-----+-----+--------+-------+--------+-----+\n",
      "|        642|       1|     1|Sagesser, Mlle. Emma|female|24.0|    0|    0|PC 17477|   69.3|       C| Mlle|\n",
      "|        711|       1|     1|\"Mayne, Mlle. Ber...|female|24.0|    0|    0|PC 17482|49.5042|       C| Mlle|\n",
      "+-----------+--------+------+--------------------+------+----+-----+-----+--------+-------+--------+-----+\n",
      "\n"
     ]
    }
   ],
   "source": [
    "train.where(col(\"Title\") == 'Mlle').show()"
   ]
  },
  {
   "cell_type": "markdown",
   "metadata": {},
   "source": [
    "#### -> Change 'Mlle' title to 'Ms'"
   ]
  },
  {
   "cell_type": "code",
   "execution_count": 23,
   "metadata": {},
   "outputs": [
    {
     "name": "stdout",
     "output_type": "stream",
     "text": [
      "+-----------+--------+------+--------------------+----+----+-----+-----+------+-----+--------+-----+\n",
      "|PassengerId|Survived|Pclass|                Name| Sex| Age|SibSp|Parch|Ticket| Fare|Embarked|Title|\n",
      "+-----------+--------+------+--------------------+----+----+-----+-----+------+-----+--------+-----+\n",
      "|        450|       1|     1|Peuchen, Major. A...|male|52.0|    0|    0|113786| 30.5|       S|Major|\n",
      "|        537|       0|     1|Butt, Major. Arch...|male|45.0|    0|    0|113050|26.55|       S|Major|\n",
      "+-----------+--------+------+--------------------+----+----+-----+-----+------+-----+--------+-----+\n",
      "\n"
     ]
    }
   ],
   "source": [
    "train.where(col(\"Title\") == 'Major').show()"
   ]
  },
  {
   "cell_type": "markdown",
   "metadata": {},
   "source": [
    "#### -> Change 'Major' title to 'Mr'"
   ]
  },
  {
   "cell_type": "markdown",
   "metadata": {},
   "source": [
    "#### Replace misspelling title values"
   ]
  },
  {
   "cell_type": "code",
   "execution_count": 24,
   "metadata": {},
   "outputs": [
    {
     "name": "stdout",
     "output_type": "stream",
     "text": [
      "+------+-----+\n",
      "| Title|count|\n",
      "+------+-----+\n",
      "|  Miss|  182|\n",
      "|Master|   40|\n",
      "|    Mr|  531|\n",
      "|    Dr|    7|\n",
      "|   Mrs|  125|\n",
      "|    Ms|    6|\n",
      "+------+-----+\n",
      "\n"
     ]
    }
   ],
   "source": [
    "train = train.replace([\"Don\", \"Countess\", \"Col\", \"Rev\", \"Mme\", \"Capt\", \"Jonkheer\", \"Mlle\", \"Major\", \"Sir\", \"Lady\"], \n",
    "                      [\"Mr\", \"Ms\", \"Mr\", \"Mr\", \"Ms\", \"Mr\", \"Mr\", \"Ms\", \"Mr\", \"Mr\", \"Ms\"], \n",
    "                      \"Title\")\n",
    "train.groupBy(\"Title\").count().show()"
   ]
  },
  {
   "cell_type": "markdown",
   "metadata": {},
   "source": [
    "#### Check the Title values matching with the Sex values"
   ]
  },
  {
   "cell_type": "code",
   "execution_count": 25,
   "metadata": {},
   "outputs": [
    {
     "name": "stdout",
     "output_type": "stream",
     "text": [
      "+------+------+-----+\n",
      "| Title|   Sex|count|\n",
      "+------+------+-----+\n",
      "|Master|  male|   40|\n",
      "|    Dr|  male|    6|\n",
      "|   Mrs|female|  125|\n",
      "|  Miss|female|  182|\n",
      "|    Mr|  male|  531|\n",
      "|    Dr|female|    1|\n",
      "|    Ms|female|    6|\n",
      "+------+------+-----+\n",
      "\n"
     ]
    }
   ],
   "source": [
    "train.groupBy([\"Title\", \"Sex\"]).count().show()"
   ]
  },
  {
   "cell_type": "markdown",
   "metadata": {},
   "source": [
    "#### Calculate the average age for each title"
   ]
  },
  {
   "cell_type": "code",
   "execution_count": 26,
   "metadata": {},
   "outputs": [
    {
     "name": "stderr",
     "output_type": "stream",
     "text": [
      "[Stage 40:>                                                         (0 + 1) / 1]\r"
     ]
    },
    {
     "name": "stdout",
     "output_type": "stream",
     "text": [
      "+------+-------+\n",
      "| Title|Avg_Age|\n",
      "+------+-------+\n",
      "|  Miss|   22.0|\n",
      "|Master|    5.0|\n",
      "|    Mr|   33.0|\n",
      "|    Dr|   42.0|\n",
      "|   Mrs|   36.0|\n",
      "|    Ms|   30.0|\n",
      "+------+-------+\n",
      "\n"
     ]
    },
    {
     "name": "stderr",
     "output_type": "stream",
     "text": [
      "                                                                                \r"
     ]
    }
   ],
   "source": [
    "avg_age_df = spark.createDataFrame(train.groupBy([\"Title\"]).agg(avg(\"Age\").alias(\"Avg_Age\")).toPandas())\n",
    "avg_age_df = avg_age_df.withColumn(\"Avg_Age\", round(avg_age_df[\"Avg_Age\"]).cast(\"double\"))\n",
    "avg_age_df.show()"
   ]
  },
  {
   "cell_type": "markdown",
   "metadata": {},
   "source": [
    "#### Replace the NULL values in the Age column with the average values for each Title"
   ]
  },
  {
   "cell_type": "code",
   "execution_count": 27,
   "metadata": {},
   "outputs": [],
   "source": [
    "for row in avg_age_df.collect():\n",
    "    train = train.withColumn(\"Age\", when((col(\"Title\") == row[\"Title\"]) & (col(\"Age\").isNull()), row[\"Avg_Age\"]).otherwise(col(\"Age\")))"
   ]
  },
  {
   "cell_type": "markdown",
   "metadata": {},
   "source": [
    "### Check NULL values in the train dataset"
   ]
  },
  {
   "cell_type": "code",
   "execution_count": 28,
   "metadata": {},
   "outputs": [
    {
     "data": {
      "text/html": [
       "<div>\n",
       "<style scoped>\n",
       "    .dataframe tbody tr th:only-of-type {\n",
       "        vertical-align: middle;\n",
       "    }\n",
       "\n",
       "    .dataframe tbody tr th {\n",
       "        vertical-align: top;\n",
       "    }\n",
       "\n",
       "    .dataframe thead th {\n",
       "        text-align: right;\n",
       "    }\n",
       "</style>\n",
       "<table border=\"1\" class=\"dataframe\">\n",
       "  <thead>\n",
       "    <tr style=\"text-align: right;\">\n",
       "      <th></th>\n",
       "      <th>PassengerId</th>\n",
       "      <th>Survived</th>\n",
       "      <th>Pclass</th>\n",
       "      <th>Name</th>\n",
       "      <th>Sex</th>\n",
       "      <th>Age</th>\n",
       "      <th>SibSp</th>\n",
       "      <th>Parch</th>\n",
       "      <th>Ticket</th>\n",
       "      <th>Fare</th>\n",
       "      <th>Embarked</th>\n",
       "      <th>Title</th>\n",
       "    </tr>\n",
       "  </thead>\n",
       "  <tbody>\n",
       "    <tr>\n",
       "      <th>0</th>\n",
       "      <td>0</td>\n",
       "      <td>0</td>\n",
       "      <td>0</td>\n",
       "      <td>0</td>\n",
       "      <td>0</td>\n",
       "      <td>0</td>\n",
       "      <td>0</td>\n",
       "      <td>0</td>\n",
       "      <td>0</td>\n",
       "      <td>0</td>\n",
       "      <td>0</td>\n",
       "      <td>0</td>\n",
       "    </tr>\n",
       "  </tbody>\n",
       "</table>\n",
       "</div>"
      ],
      "text/plain": [
       "   PassengerId  Survived  Pclass  Name  Sex  Age  SibSp  Parch  Ticket  Fare  \\\n",
       "0            0         0       0     0    0    0      0      0       0     0   \n",
       "\n",
       "   Embarked  Title  \n",
       "0         0      0  "
      ]
     },
     "execution_count": 28,
     "metadata": {},
     "output_type": "execute_result"
    }
   ],
   "source": [
    "train.select([count(when(isnan(c) | col(c).isNull(), c)).alias(c) for c in train.columns]).toPandas()"
   ]
  },
  {
   "cell_type": "markdown",
   "metadata": {},
   "source": [
    "#### Remove unnecessary columns for the analysis"
   ]
  },
  {
   "cell_type": "code",
   "execution_count": 29,
   "metadata": {},
   "outputs": [
    {
     "name": "stdout",
     "output_type": "stream",
     "text": [
      "+--------+------+------+----+-----+-----+-------+--------+\n",
      "|Survived|Pclass|   Sex| Age|SibSp|Parch|   Fare|Embarked|\n",
      "+--------+------+------+----+-----+-----+-------+--------+\n",
      "|       0|     3|  male|22.0|    1|    0|   7.25|       S|\n",
      "|       1|     1|female|38.0|    1|    0|71.2833|       C|\n",
      "|       1|     3|female|26.0|    0|    0|  7.925|       S|\n",
      "|       1|     1|female|35.0|    1|    0|   53.1|       S|\n",
      "|       0|     3|  male|35.0|    0|    0|   8.05|       S|\n",
      "+--------+------+------+----+-----+-----+-------+--------+\n",
      "only showing top 5 rows\n",
      "\n"
     ]
    }
   ],
   "source": [
    "train = train.drop(\"PassengerId\", \"Name\", \"Ticket\", \"Title\")\n",
    "train.show(5)"
   ]
  },
  {
   "cell_type": "markdown",
   "metadata": {},
   "source": [
    "### Preprocess for the test dataset"
   ]
  },
  {
   "cell_type": "code",
   "execution_count": 30,
   "metadata": {},
   "outputs": [
    {
     "data": {
      "text/html": [
       "<div>\n",
       "<style scoped>\n",
       "    .dataframe tbody tr th:only-of-type {\n",
       "        vertical-align: middle;\n",
       "    }\n",
       "\n",
       "    .dataframe tbody tr th {\n",
       "        vertical-align: top;\n",
       "    }\n",
       "\n",
       "    .dataframe thead th {\n",
       "        text-align: right;\n",
       "    }\n",
       "</style>\n",
       "<table border=\"1\" class=\"dataframe\">\n",
       "  <thead>\n",
       "    <tr style=\"text-align: right;\">\n",
       "      <th></th>\n",
       "      <th>summary</th>\n",
       "      <th>PassengerId</th>\n",
       "      <th>Pclass</th>\n",
       "      <th>Name</th>\n",
       "      <th>Sex</th>\n",
       "      <th>Age</th>\n",
       "      <th>SibSp</th>\n",
       "      <th>Parch</th>\n",
       "      <th>Ticket</th>\n",
       "      <th>Fare</th>\n",
       "      <th>Cabin</th>\n",
       "      <th>Embarked</th>\n",
       "    </tr>\n",
       "  </thead>\n",
       "  <tbody>\n",
       "    <tr>\n",
       "      <th>0</th>\n",
       "      <td>count</td>\n",
       "      <td>418</td>\n",
       "      <td>418</td>\n",
       "      <td>418</td>\n",
       "      <td>418</td>\n",
       "      <td>332</td>\n",
       "      <td>418</td>\n",
       "      <td>418</td>\n",
       "      <td>418</td>\n",
       "      <td>417</td>\n",
       "      <td>91</td>\n",
       "      <td>418</td>\n",
       "    </tr>\n",
       "    <tr>\n",
       "      <th>1</th>\n",
       "      <td>mean</td>\n",
       "      <td>1100.5</td>\n",
       "      <td>2.2655502392344498</td>\n",
       "      <td>None</td>\n",
       "      <td>None</td>\n",
       "      <td>30.272590361445783</td>\n",
       "      <td>0.4473684210526316</td>\n",
       "      <td>0.3923444976076555</td>\n",
       "      <td>223850.98986486485</td>\n",
       "      <td>35.6271884892086</td>\n",
       "      <td>None</td>\n",
       "      <td>None</td>\n",
       "    </tr>\n",
       "    <tr>\n",
       "      <th>2</th>\n",
       "      <td>stddev</td>\n",
       "      <td>120.81045760473994</td>\n",
       "      <td>0.8418375519640503</td>\n",
       "      <td>None</td>\n",
       "      <td>None</td>\n",
       "      <td>14.181209235624424</td>\n",
       "      <td>0.8967595611217135</td>\n",
       "      <td>0.9814288785371694</td>\n",
       "      <td>369523.7764694362</td>\n",
       "      <td>55.907576179973844</td>\n",
       "      <td>None</td>\n",
       "      <td>None</td>\n",
       "    </tr>\n",
       "    <tr>\n",
       "      <th>3</th>\n",
       "      <td>min</td>\n",
       "      <td>892</td>\n",
       "      <td>1</td>\n",
       "      <td>\"Assaf Khalil, Mrs. Mariana (Miriam\"\")\"\"\"</td>\n",
       "      <td>female</td>\n",
       "      <td>0.17</td>\n",
       "      <td>0</td>\n",
       "      <td>0</td>\n",
       "      <td>110469</td>\n",
       "      <td>0.0</td>\n",
       "      <td>A11</td>\n",
       "      <td>C</td>\n",
       "    </tr>\n",
       "    <tr>\n",
       "      <th>4</th>\n",
       "      <td>max</td>\n",
       "      <td>1309</td>\n",
       "      <td>3</td>\n",
       "      <td>van Billiard, Master. Walter John</td>\n",
       "      <td>male</td>\n",
       "      <td>76.0</td>\n",
       "      <td>8</td>\n",
       "      <td>9</td>\n",
       "      <td>W.E.P. 5734</td>\n",
       "      <td>512.3292</td>\n",
       "      <td>G6</td>\n",
       "      <td>S</td>\n",
       "    </tr>\n",
       "  </tbody>\n",
       "</table>\n",
       "</div>"
      ],
      "text/plain": [
       "  summary         PassengerId              Pclass  \\\n",
       "0   count                 418                 418   \n",
       "1    mean              1100.5  2.2655502392344498   \n",
       "2  stddev  120.81045760473994  0.8418375519640503   \n",
       "3     min                 892                   1   \n",
       "4     max                1309                   3   \n",
       "\n",
       "                                        Name     Sex                 Age  \\\n",
       "0                                        418     418                 332   \n",
       "1                                       None    None  30.272590361445783   \n",
       "2                                       None    None  14.181209235624424   \n",
       "3  \"Assaf Khalil, Mrs. Mariana (Miriam\"\")\"\"\"  female                0.17   \n",
       "4          van Billiard, Master. Walter John    male                76.0   \n",
       "\n",
       "                SibSp               Parch              Ticket  \\\n",
       "0                 418                 418                 418   \n",
       "1  0.4473684210526316  0.3923444976076555  223850.98986486485   \n",
       "2  0.8967595611217135  0.9814288785371694   369523.7764694362   \n",
       "3                   0                   0              110469   \n",
       "4                   8                   9         W.E.P. 5734   \n",
       "\n",
       "                 Fare Cabin Embarked  \n",
       "0                 417    91      418  \n",
       "1    35.6271884892086  None     None  \n",
       "2  55.907576179973844  None     None  \n",
       "3                 0.0   A11        C  \n",
       "4            512.3292    G6        S  "
      ]
     },
     "execution_count": 30,
     "metadata": {},
     "output_type": "execute_result"
    }
   ],
   "source": [
    "test.describe().toPandas()"
   ]
  },
  {
   "cell_type": "markdown",
   "metadata": {},
   "source": [
    "#### Count the number of missing values in each column"
   ]
  },
  {
   "cell_type": "code",
   "execution_count": 31,
   "metadata": {},
   "outputs": [
    {
     "data": {
      "text/html": [
       "<div>\n",
       "<style scoped>\n",
       "    .dataframe tbody tr th:only-of-type {\n",
       "        vertical-align: middle;\n",
       "    }\n",
       "\n",
       "    .dataframe tbody tr th {\n",
       "        vertical-align: top;\n",
       "    }\n",
       "\n",
       "    .dataframe thead th {\n",
       "        text-align: right;\n",
       "    }\n",
       "</style>\n",
       "<table border=\"1\" class=\"dataframe\">\n",
       "  <thead>\n",
       "    <tr style=\"text-align: right;\">\n",
       "      <th></th>\n",
       "      <th>PassengerId</th>\n",
       "      <th>Pclass</th>\n",
       "      <th>Name</th>\n",
       "      <th>Sex</th>\n",
       "      <th>Age</th>\n",
       "      <th>SibSp</th>\n",
       "      <th>Parch</th>\n",
       "      <th>Ticket</th>\n",
       "      <th>Fare</th>\n",
       "      <th>Cabin</th>\n",
       "      <th>Embarked</th>\n",
       "    </tr>\n",
       "  </thead>\n",
       "  <tbody>\n",
       "    <tr>\n",
       "      <th>0</th>\n",
       "      <td>0</td>\n",
       "      <td>0</td>\n",
       "      <td>0</td>\n",
       "      <td>0</td>\n",
       "      <td>86</td>\n",
       "      <td>0</td>\n",
       "      <td>0</td>\n",
       "      <td>0</td>\n",
       "      <td>1</td>\n",
       "      <td>327</td>\n",
       "      <td>0</td>\n",
       "    </tr>\n",
       "  </tbody>\n",
       "</table>\n",
       "</div>"
      ],
      "text/plain": [
       "   PassengerId  Pclass  Name  Sex  Age  SibSp  Parch  Ticket  Fare  Cabin  \\\n",
       "0            0       0     0    0   86      0      0       0     1    327   \n",
       "\n",
       "   Embarked  \n",
       "0         0  "
      ]
     },
     "execution_count": 31,
     "metadata": {},
     "output_type": "execute_result"
    }
   ],
   "source": [
    "test.select([count(when(isnan(c) | col(c).isNull(), c)).alias(c) for c in test.columns]).toPandas()"
   ]
  },
  {
   "cell_type": "markdown",
   "metadata": {},
   "source": [
    "#### Check the total number of rows in the test dataset"
   ]
  },
  {
   "cell_type": "code",
   "execution_count": 32,
   "metadata": {},
   "outputs": [
    {
     "data": {
      "text/plain": [
       "418"
      ]
     },
     "execution_count": 32,
     "metadata": {},
     "output_type": "execute_result"
    }
   ],
   "source": [
    "test.count()"
   ]
  },
  {
   "cell_type": "markdown",
   "metadata": {},
   "source": [
    "#### Remove the Cabin column due to lots of missing values"
   ]
  },
  {
   "cell_type": "code",
   "execution_count": 33,
   "metadata": {},
   "outputs": [
    {
     "name": "stdout",
     "output_type": "stream",
     "text": [
      "+-----------+------+--------------------+------+----+-----+-----+-------+-------+--------+\n",
      "|PassengerId|Pclass|                Name|   Sex| Age|SibSp|Parch| Ticket|   Fare|Embarked|\n",
      "+-----------+------+--------------------+------+----+-----+-----+-------+-------+--------+\n",
      "|        892|     3|    Kelly, Mr. James|  male|34.5|    0|    0| 330911| 7.8292|       Q|\n",
      "|        893|     3|Wilkes, Mrs. Jame...|female|47.0|    1|    0| 363272|    7.0|       S|\n",
      "|        894|     2|Myles, Mr. Thomas...|  male|62.0|    0|    0| 240276| 9.6875|       Q|\n",
      "|        895|     3|    Wirz, Mr. Albert|  male|27.0|    0|    0| 315154| 8.6625|       S|\n",
      "|        896|     3|Hirvonen, Mrs. Al...|female|22.0|    1|    1|3101298|12.2875|       S|\n",
      "+-----------+------+--------------------+------+----+-----+-----+-------+-------+--------+\n",
      "only showing top 5 rows\n",
      "\n"
     ]
    }
   ],
   "source": [
    "test = test.drop(\"Cabin\")\n",
    "test.show(5)"
   ]
  },
  {
   "cell_type": "markdown",
   "metadata": {},
   "source": [
    "#### Check the row with NULL value in the Fare column for the test dataset"
   ]
  },
  {
   "cell_type": "code",
   "execution_count": 34,
   "metadata": {},
   "outputs": [
    {
     "name": "stdout",
     "output_type": "stream",
     "text": [
      "+-----------+------+------------------+----+----+-----+-----+------+----+--------+\n",
      "|PassengerId|Pclass|              Name| Sex| Age|SibSp|Parch|Ticket|Fare|Embarked|\n",
      "+-----------+------+------------------+----+----+-----+-----+------+----+--------+\n",
      "|       1044|     3|Storey, Mr. Thomas|male|60.5|    0|    0|  3701|NULL|       S|\n",
      "+-----------+------+------------------+----+----+-----+-----+------+----+--------+\n",
      "\n"
     ]
    }
   ],
   "source": [
    "test.where(col(\"Fare\").isNull()).show()"
   ]
  },
  {
   "cell_type": "markdown",
   "metadata": {},
   "source": [
    "#### Replace the NULL value in the Fare column with the average value for Pclass=3, Sex=male, and Embarked=S for the test dataset"
   ]
  },
  {
   "cell_type": "code",
   "execution_count": 35,
   "metadata": {},
   "outputs": [],
   "source": [
    "avg_fare = test.filter(\"Pclass=3 and Sex='male' and Embarked='S'\").agg({\"Fare\": \"avg\"}).collect()[0][0]\n",
    "test = test.na.fill(avg_fare, subset=[\"Fare\"])"
   ]
  },
  {
   "cell_type": "code",
   "execution_count": 36,
   "metadata": {},
   "outputs": [
    {
     "name": "stdout",
     "output_type": "stream",
     "text": [
      "+-----------+------+----+---+---+-----+-----+------+----+--------+\n",
      "|PassengerId|Pclass|Name|Sex|Age|SibSp|Parch|Ticket|Fare|Embarked|\n",
      "+-----------+------+----+---+---+-----+-----+------+----+--------+\n",
      "+-----------+------+----+---+---+-----+-----+------+----+--------+\n",
      "\n"
     ]
    }
   ],
   "source": [
    "test.where(col(\"Fare\").isNull()).show()"
   ]
  },
  {
   "cell_type": "markdown",
   "metadata": {},
   "source": [
    "#### Find the title in the Name column"
   ]
  },
  {
   "cell_type": "code",
   "execution_count": 37,
   "metadata": {},
   "outputs": [
    {
     "name": "stdout",
     "output_type": "stream",
     "text": [
      "+------+-----+\n",
      "| Title|count|\n",
      "+------+-----+\n",
      "|  Dona|    1|\n",
      "|  Miss|   78|\n",
      "|   Col|    2|\n",
      "|   Rev|    2|\n",
      "|Master|   21|\n",
      "|    Mr|  240|\n",
      "|    Dr|    1|\n",
      "|   Mrs|   72|\n",
      "|    Ms|    1|\n",
      "+------+-----+\n",
      "\n"
     ]
    }
   ],
   "source": [
    "test = test.withColumn(\"Title\", regexp_extract(col(\"Name\"), \"([A-Za-z]+)\\.\", 1))\n",
    "test.groupBy(\"Title\").count().show()"
   ]
  },
  {
   "cell_type": "code",
   "execution_count": 38,
   "metadata": {},
   "outputs": [
    {
     "name": "stdout",
     "output_type": "stream",
     "text": [
      "+-----------+------+--------------------+------+----+-----+-----+--------+-----+--------+-----+\n",
      "|PassengerId|Pclass|                Name|   Sex| Age|SibSp|Parch|  Ticket| Fare|Embarked|Title|\n",
      "+-----------+------+--------------------+------+----+-----+-----+--------+-----+--------+-----+\n",
      "|       1306|     1|Oliva y Ocana, Do...|female|39.0|    0|    0|PC 17758|108.9|       C| Dona|\n",
      "+-----------+------+--------------------+------+----+-----+-----+--------+-----+--------+-----+\n",
      "\n"
     ]
    }
   ],
   "source": [
    "test.where(col(\"Title\") == 'Dona').show()"
   ]
  },
  {
   "cell_type": "markdown",
   "metadata": {},
   "source": [
    "#### -> Change the 'Dona' title to 'Ms'"
   ]
  },
  {
   "cell_type": "code",
   "execution_count": 39,
   "metadata": {},
   "outputs": [
    {
     "name": "stdout",
     "output_type": "stream",
     "text": [
      "+-----------+------+--------------------+----+----+-----+-----+--------+-------+--------+-----+\n",
      "|PassengerId|Pclass|                Name| Sex| Age|SibSp|Parch|  Ticket|   Fare|Embarked|Title|\n",
      "+-----------+------+--------------------+----+----+-----+-----+--------+-------+--------+-----+\n",
      "|       1023|     1|Gracie, Col. Arch...|male|53.0|    0|    0|  113780|   28.5|       C|  Col|\n",
      "|       1094|     1|Astor, Col. John ...|male|47.0|    1|    0|PC 17757|227.525|       C|  Col|\n",
      "+-----------+------+--------------------+----+----+-----+-----+--------+-------+--------+-----+\n",
      "\n"
     ]
    }
   ],
   "source": [
    "test.where(col(\"Title\") == 'Col').show()"
   ]
  },
  {
   "cell_type": "markdown",
   "metadata": {},
   "source": [
    "#### -> Change the 'Col' title to 'Mr'"
   ]
  },
  {
   "cell_type": "code",
   "execution_count": 40,
   "metadata": {},
   "outputs": [
    {
     "name": "stdout",
     "output_type": "stream",
     "text": [
      "+-----------+------+--------------------+----+----+-----+-----+------+----+--------+-----+\n",
      "|PassengerId|Pclass|                Name| Sex| Age|SibSp|Parch|Ticket|Fare|Embarked|Title|\n",
      "+-----------+------+--------------------+----+----+-----+-----+------+----+--------+-----+\n",
      "|       1041|     2|Lahtinen, Rev. Wi...|male|30.0|    1|    1|250651|26.0|       S|  Rev|\n",
      "|       1056|     2|Peruschitz, Rev. ...|male|41.0|    0|    0|237393|13.0|       S|  Rev|\n",
      "+-----------+------+--------------------+----+----+-----+-----+------+----+--------+-----+\n",
      "\n"
     ]
    }
   ],
   "source": [
    "test.where(col(\"Title\") == 'Rev').show()"
   ]
  },
  {
   "cell_type": "markdown",
   "metadata": {},
   "source": [
    "#### -> Change the 'Rev' title to 'Mr'"
   ]
  },
  {
   "cell_type": "code",
   "execution_count": 41,
   "metadata": {},
   "outputs": [
    {
     "name": "stdout",
     "output_type": "stream",
     "text": [
      "+-----------+------+--------------------+----+----+-----+-----+------+-------+--------+-----+\n",
      "|PassengerId|Pclass|                Name| Sex| Age|SibSp|Parch|Ticket|   Fare|Embarked|Title|\n",
      "+-----------+------+--------------------+----+----+-----+-----+------+-------+--------+-----+\n",
      "|       1185|     1|Dodge, Dr. Washin...|male|53.0|    1|    1| 33638|81.8583|       S|   Dr|\n",
      "+-----------+------+--------------------+----+----+-----+-----+------+-------+--------+-----+\n",
      "\n"
     ]
    }
   ],
   "source": [
    "test.where(col(\"Title\") == 'Dr').show()"
   ]
  },
  {
   "cell_type": "markdown",
   "metadata": {},
   "source": [
    "#### -> Change the 'Dr' title to 'Mr'"
   ]
  },
  {
   "cell_type": "markdown",
   "metadata": {},
   "source": [
    "#### Replace misspelling title values"
   ]
  },
  {
   "cell_type": "code",
   "execution_count": 42,
   "metadata": {},
   "outputs": [
    {
     "name": "stdout",
     "output_type": "stream",
     "text": [
      "+------+-----+\n",
      "| Title|count|\n",
      "+------+-----+\n",
      "|  Miss|   78|\n",
      "|Master|   21|\n",
      "|    Mr|  245|\n",
      "|   Mrs|   72|\n",
      "|    Ms|    2|\n",
      "+------+-----+\n",
      "\n"
     ]
    }
   ],
   "source": [
    "test = test.replace([\"Dona\", \"Col\", \"Rev\", \"Dr\"], \n",
    "                    [\"Ms\", \"Mr\", \"Mr\", \"Mr\"], \n",
    "                    \"Title\")\n",
    "test.groupBy(\"Title\").count().show()"
   ]
  },
  {
   "cell_type": "markdown",
   "metadata": {},
   "source": [
    "#### Check the Title values matching the the Sex values"
   ]
  },
  {
   "cell_type": "code",
   "execution_count": 43,
   "metadata": {},
   "outputs": [
    {
     "name": "stdout",
     "output_type": "stream",
     "text": [
      "+------+------+-----+\n",
      "| Title|   Sex|count|\n",
      "+------+------+-----+\n",
      "|Master|  male|   21|\n",
      "|   Mrs|female|   72|\n",
      "|  Miss|female|   78|\n",
      "|    Mr|  male|  245|\n",
      "|    Ms|female|    2|\n",
      "+------+------+-----+\n",
      "\n"
     ]
    }
   ],
   "source": [
    "test.groupBy([\"Title\", \"Sex\"]).count().show()"
   ]
  },
  {
   "cell_type": "markdown",
   "metadata": {},
   "source": [
    "#### Calculate the average values for each title"
   ]
  },
  {
   "cell_type": "code",
   "execution_count": 44,
   "metadata": {},
   "outputs": [
    {
     "name": "stdout",
     "output_type": "stream",
     "text": [
      "+------+-------+\n",
      "| Title|Avg_Age|\n",
      "+------+-------+\n",
      "|  Miss|   22.0|\n",
      "|Master|    7.0|\n",
      "|    Mr|   32.0|\n",
      "|   Mrs|   39.0|\n",
      "|    Ms|   39.0|\n",
      "+------+-------+\n",
      "\n"
     ]
    }
   ],
   "source": [
    "avg_age_df_test = spark.createDataFrame(test.groupBy([\"Title\"]).agg(avg(\"Age\").alias(\"Avg_Age\")).toPandas())\n",
    "avg_age_df_test = avg_age_df_test.withColumn(\"Avg_Age\", round(avg_age_df_test[\"Avg_Age\"]).cast(\"double\"))\n",
    "avg_age_df_test.show()"
   ]
  },
  {
   "cell_type": "markdown",
   "metadata": {},
   "source": [
    "#### Replace the NULL values in the Age column with the average age for each title"
   ]
  },
  {
   "cell_type": "code",
   "execution_count": 45,
   "metadata": {},
   "outputs": [],
   "source": [
    "for row in avg_age_df_test.collect():\n",
    "    test = test.withColumn(\"Age\", when((col(\"Title\") == row[\"Title\"]) & (col(\"Age\").isNull()), row[\"Avg_Age\"]).otherwise(col(\"Age\")))"
   ]
  },
  {
   "cell_type": "markdown",
   "metadata": {},
   "source": [
    "#### Check NULL values in the test dataset"
   ]
  },
  {
   "cell_type": "code",
   "execution_count": 46,
   "metadata": {},
   "outputs": [
    {
     "data": {
      "text/html": [
       "<div>\n",
       "<style scoped>\n",
       "    .dataframe tbody tr th:only-of-type {\n",
       "        vertical-align: middle;\n",
       "    }\n",
       "\n",
       "    .dataframe tbody tr th {\n",
       "        vertical-align: top;\n",
       "    }\n",
       "\n",
       "    .dataframe thead th {\n",
       "        text-align: right;\n",
       "    }\n",
       "</style>\n",
       "<table border=\"1\" class=\"dataframe\">\n",
       "  <thead>\n",
       "    <tr style=\"text-align: right;\">\n",
       "      <th></th>\n",
       "      <th>PassengerId</th>\n",
       "      <th>Pclass</th>\n",
       "      <th>Name</th>\n",
       "      <th>Sex</th>\n",
       "      <th>Age</th>\n",
       "      <th>SibSp</th>\n",
       "      <th>Parch</th>\n",
       "      <th>Ticket</th>\n",
       "      <th>Fare</th>\n",
       "      <th>Embarked</th>\n",
       "      <th>Title</th>\n",
       "    </tr>\n",
       "  </thead>\n",
       "  <tbody>\n",
       "    <tr>\n",
       "      <th>0</th>\n",
       "      <td>0</td>\n",
       "      <td>0</td>\n",
       "      <td>0</td>\n",
       "      <td>0</td>\n",
       "      <td>0</td>\n",
       "      <td>0</td>\n",
       "      <td>0</td>\n",
       "      <td>0</td>\n",
       "      <td>0</td>\n",
       "      <td>0</td>\n",
       "      <td>0</td>\n",
       "    </tr>\n",
       "  </tbody>\n",
       "</table>\n",
       "</div>"
      ],
      "text/plain": [
       "   PassengerId  Pclass  Name  Sex  Age  SibSp  Parch  Ticket  Fare  Embarked  \\\n",
       "0            0       0     0    0    0      0      0       0     0         0   \n",
       "\n",
       "   Title  \n",
       "0      0  "
      ]
     },
     "execution_count": 46,
     "metadata": {},
     "output_type": "execute_result"
    }
   ],
   "source": [
    "test.select([count(when(isnan(c) | col(c).isNull(), c)).alias(c) for c in test.columns]).toPandas()"
   ]
  },
  {
   "cell_type": "markdown",
   "metadata": {},
   "source": [
    "#### Remove unnecessary columns for the analysis"
   ]
  },
  {
   "cell_type": "code",
   "execution_count": 47,
   "metadata": {},
   "outputs": [
    {
     "name": "stdout",
     "output_type": "stream",
     "text": [
      "+------+------+----+-----+-----+-------+--------+\n",
      "|Pclass|   Sex| Age|SibSp|Parch|   Fare|Embarked|\n",
      "+------+------+----+-----+-----+-------+--------+\n",
      "|     3|  male|34.5|    0|    0| 7.8292|       Q|\n",
      "|     3|female|47.0|    1|    0|    7.0|       S|\n",
      "|     2|  male|62.0|    0|    0| 9.6875|       Q|\n",
      "|     3|  male|27.0|    0|    0| 8.6625|       S|\n",
      "|     3|female|22.0|    1|    1|12.2875|       S|\n",
      "+------+------+----+-----+-----+-------+--------+\n",
      "only showing top 5 rows\n",
      "\n"
     ]
    }
   ],
   "source": [
    "test = test.drop(\"PassengerId\", \"Name\", \"Ticket\", \"Title\")\n",
    "test.show(5)"
   ]
  },
  {
   "cell_type": "markdown",
   "metadata": {},
   "source": [
    "# --- Exploratory Data Analysis ---"
   ]
  },
  {
   "cell_type": "code",
   "execution_count": 48,
   "metadata": {},
   "outputs": [],
   "source": [
    "df_train = train.toPandas()"
   ]
  },
  {
   "cell_type": "code",
   "execution_count": 49,
   "metadata": {},
   "outputs": [],
   "source": [
    "sns.set_theme(rc={'axes.facecolor':'#dedad2', 'figure.facecolor':'#d7e1ee'})"
   ]
  },
  {
   "cell_type": "markdown",
   "metadata": {},
   "source": [
    "#### 1. Explore feature 'Pclass'"
   ]
  },
  {
   "cell_type": "code",
   "execution_count": 50,
   "metadata": {},
   "outputs": [],
   "source": [
    "# Show the percentage of each category in the feature\n",
    "def percentage_with_hue(plot, feature, number_of_categories, hue_categories):\n",
    "    patch = [p for p in plot.patches]\n",
    "    ind = 0\n",
    "    for i in range(number_of_categories):\n",
    "        for j in range(hue_categories):\n",
    "            x = patch[(j*number_of_categories + i)].get_x() + patch[(j*number_of_categories + i)].get_width() / 2 - 0.1\n",
    "            y = patch[(j*number_of_categories + i)].get_y() + patch[(j*number_of_categories + i)].get_height()\n",
    "            plot.annotate('{:.2f}%'.format(feature[ind]), (x, y), size = 10)\n",
    "            ind += 1\n",
    "    plt.show()"
   ]
  },
  {
   "cell_type": "code",
   "execution_count": null,
   "metadata": {},
   "outputs": [],
   "source": [
    "# Show the percentage in the feature without category\n",
    "def percentage_without_hue(plot, feature):\n",
    "    total = len(feature)\n",
    "    for p in plot.patches:\n",
    "        percentage = '{:.1f}%'.format(100 * p.get_height()/total)\n",
    "        x = p.get_x() + p.get_width() / 2 - 0.05\n",
    "        y = p.get_y() + p.get_height()\n",
    "        plot.annotate(percentage, (x, y), size = 12)\n",
    "    plt.show()"
   ]
  },
  {
   "cell_type": "code",
   "execution_count": 51,
   "metadata": {},
   "outputs": [
    {
     "data": {
      "image/png": "[encoded data removed]",
      "text/plain": [
       "<Figure size 700x500 with 1 Axes>"
      ]
     },
     "metadata": {},
     "output_type": "display_data"
    }
   ],
   "source": [
    "df_pclass = df_train.groupby(['Pclass', 'Survived']).size().reset_index()\n",
    "df_pclass.rename(columns={0: 'Count'}, inplace=True)\n",
    "df_pclass['Percentage'] = df_train.groupby(['Pclass', 'Survived']).size().groupby(level=0).apply(lambda x: 100 * x / float(x.sum())).values\n",
    "df_pclass['PclassLabel'] = np.where(df_pclass['Pclass'] == 1, 'Class 1', np.where(df_pclass['Pclass'] == 2, 'Class 2', 'Class 3'))\n",
    "df_pclass['SurvivedLabel'] = np.where(df_pclass['Survived'] == 0, 'Not Survived', 'Survived')\n",
    "\n",
    "# Plotting with Seaborn\n",
    "plt.figure(figsize=(7, 5))\n",
    "ax = sns.barplot(data=df_pclass, x='PclassLabel', y='Count', hue='SurvivedLabel', palette=[\"#bd7ebe\", \"#5ad45a\"])\n",
    "plt.title('Survival Rate by Ticket Class', fontsize=15, fontweight='bold')\n",
    "plt.legend(title='', loc='upper left')\n",
    "sns.move_legend(ax, \"upper left\", bbox_to_anchor=(1, 1))\n",
    "plt.xlabel('')\n",
    "plt.ylabel('Total Passengers')\n",
    "plt.tight_layout()\n",
    "percentage_with_hue(ax, df_pclass['Percentage'], 3, 2)"
   ]
  },
  {
   "cell_type": "markdown",
   "metadata": {},
   "source": [
    "##### Class 3 had the highest number of passengers. It also indicated that the number of passengers died in Class 3 was significantly higher than other classes. Class 1 had the highest number of survival passengers followed by Class 3 and Class 2."
   ]
  },
  {
   "cell_type": "markdown",
   "metadata": {},
   "source": [
    "#### 2. Explore features 'SibSp'"
   ]
  },
  {
   "cell_type": "code",
   "execution_count": 52,
   "metadata": {},
   "outputs": [
    {
     "data": {
      "image/png": "[encoded data removed]",
      "text/plain": [
       "<Figure size 640x480 with 1 Axes>"
      ]
     },
     "metadata": {},
     "output_type": "display_data"
    }
   ],
   "source": [
    "# Calculate survival rates\n",
    "survival_rates = df_train.groupby('SibSp')['Survived'].mean().reset_index()\n",
    "\n",
    "# Create bar plot using Seaborn\n",
    "ax = sns.barplot(data=survival_rates, x='SibSp', y='Survived', color=\"#5ad45a\")\n",
    "plt.title(\"Survived Probability by number of Siblings or Spouse\", fontsize=15, fontweight='bold')\n",
    "plt.xlabel(\"Number of Siblings or Spouse\")\n",
    "plt.ylabel(\"Survived Probability\")\n",
    "# Show plot\n",
    "plt.show()"
   ]
  },
  {
   "cell_type": "markdown",
   "metadata": {},
   "source": [
    "##### There was a maximum of 8 siblings and spouses traveled along with one of the passenger. With passengers having one sibling or spouse, the survived probability was more than 50%. Passengers traveling with 2 siblings or spouse had the survived probability nearly 50%. The chances of survival dropped drastically if someone traveled with more than 2 siblings or spouse."
   ]
  },
  {
   "cell_type": "markdown",
   "metadata": {},
   "source": [
    "#### 3. Explore feature 'Parch'"
   ]
  },
  {
   "cell_type": "code",
   "execution_count": 53,
   "metadata": {},
   "outputs": [
    {
     "data": {
      "image/png": "[encoded data removed]",
      "text/plain": [
       "<Figure size 640x480 with 1 Axes>"
      ]
     },
     "metadata": {},
     "output_type": "display_data"
    }
   ],
   "source": [
    "# Calculate survival rates\n",
    "survival_rates = df_train.groupby('Parch')['Survived'].mean().reset_index()\n",
    "\n",
    "# Create bar plot using Seaborn\n",
    "sns.barplot(data=survival_rates, x='Parch', y='Survived', color=\"#5ad45a\")\n",
    "plt.title(\"Survived Probability by number of Parent or Children\", fontsize=15, fontweight='bold')\n",
    "plt.xlabel(\"Number of Parent or Children\")\n",
    "plt.ylabel(\"Survived Probability\")\n",
    "\n",
    "# Show plot\n",
    "plt.show()"
   ]
  },
  {
   "cell_type": "markdown",
   "metadata": {},
   "source": [
    "##### Passengers traveled with 1 to 3 Parent or Children had the chance of survival more than 50%, especially with the highest probability for 3 Parent or Children at 60%. With passenger traveled alone, the chance of survival was 34% while the survived probability for 5 Parent or Children was 20%. There was no chance of survival for passengers traveled with 4 or 6 Parent or Children."
   ]
  },
  {
   "cell_type": "markdown",
   "metadata": {},
   "source": [
    "#### 4. Explore feature 'Fare'"
   ]
  },
  {
   "cell_type": "code",
   "execution_count": 54,
   "metadata": {},
   "outputs": [
    {
     "data": {
      "image/png": "[encoded data removed]",
      "text/plain": [
       "<Figure size 1500x1000 with 2 Axes>"
      ]
     },
     "metadata": {},
     "output_type": "display_data"
    }
   ],
   "source": [
    "fig, (axbox, axhist) = plt.subplots(ncols=1, nrows=2, figsize=(15, 10), sharex=True, gridspec_kw={\"height_ratios\": (.2, .8)})\n",
    "fig.suptitle('Survived Distribution by Fare', fontsize=15, fontweight='bold')\n",
    "\n",
    "# Create boxplot\n",
    "sns.boxplot(x='Fare', data=df_train, palette=[\"#bd7ebe\", \"#5ad45a\"], hue='Survived', ax= axbox, gap=.1)\n",
    "\n",
    "# Create histogram\n",
    "ax = sns.histplot(data=df_train, x=\"Fare\", hue=\"Survived\", multiple=\"stack\",\n",
    "            palette=[\"#bd7ebe\", \"#5ad45a\"], binwidth=10, ax=axhist)\n",
    "\n",
    "plt.xlabel(\"Fare\")\n",
    "plt.ylabel(\"Total Passengers\")\n",
    "plt.legend(loc='upper right', labels=['Survived', 'Not Survived'])\n",
    "ax.legend_.set_title(None)\n",
    "axbox.legend_.remove()\n",
    "fig.tight_layout()\n",
    "plt.show()"
   ]
  },
  {
   "cell_type": "markdown",
   "metadata": {},
   "source": [
    "##### There was a strong association between the fare and the survival. The dispersion of survival for passengers paid more money was wider than the dispersion of death. There were some outliers for passengers paid more money but still not survived. The higher the passengers paid, the higher would be their chances to survive."
   ]
  },
  {
   "cell_type": "markdown",
   "metadata": {},
   "source": [
    "#### 5. Explore feature 'Age'"
   ]
  },
  {
   "cell_type": "code",
   "execution_count": 55,
   "metadata": {},
   "outputs": [],
   "source": [
    "def modify_agegroup(age):\n",
    "    if age <= 10:\n",
    "        return \"0-10\"\n",
    "    elif age <= 20 and age > 10:\n",
    "        return \"11-20\"\n",
    "    elif age <= 30 and age > 20:\n",
    "        return \"21-30\"\n",
    "    elif age <=40 and age > 30:\n",
    "        return \"31-40\"\n",
    "    elif age <= 50 and age > 40:\n",
    "        return \"41-50\"\n",
    "    elif age <= 60 and age > 50:\n",
    "        return \"51-60\"\n",
    "    elif age <= 70 and age > 60:\n",
    "        return \"61-70\"\n",
    "    else:\n",
    "        return \"71+\""
   ]
  },
  {
   "cell_type": "code",
   "execution_count": 56,
   "metadata": {},
   "outputs": [],
   "source": [
    "df_train['AgeGroup'] = df_train.apply(lambda x: modify_agegroup(x['Age']), axis=1)"
   ]
  },
  {
   "cell_type": "code",
   "execution_count": 57,
   "metadata": {},
   "outputs": [
    {
     "data": {
      "image/png": "[encoded data removed]",
      "text/plain": [
       "<Figure size 1200x600 with 2 Axes>"
      ]
     },
     "metadata": {},
     "output_type": "display_data"
    }
   ],
   "source": [
    "df_age = df_train.groupby(['AgeGroup', 'Survived']).size().reset_index()\n",
    "df_age.rename(columns={0: 'Count'}, inplace=True)\n",
    "\n",
    "plt.figure(figsize=(12, 6))\n",
    "\n",
    "# Create grouped barplot\n",
    "plt.subplot(1, 2, 1)\n",
    "labels_barplot = ['Not Survived', 'Survived']\n",
    "ax = sns.barplot(data=df_age, x='AgeGroup', y='Count', hue='Survived', palette=[\"#bd7ebe\", \"#5ad45a\"])\n",
    "h, l = ax.get_legend_handles_labels()\n",
    "ax.legend(h, labels_barplot, title='', loc='upper right')\n",
    "plt.title('Survival Rate by Age Group', fontsize=15, fontweight='bold')\n",
    "plt.xlabel('Age')\n",
    "plt.ylabel('Total Passengers')\n",
    "\n",
    "# Create treemap\n",
    "plt.subplot(1, 2, 2)\n",
    "# Change relative colors based on the number of survived passengers\n",
    "cmap = matplotlib.cm.Greens\n",
    "mini=min(df_age[df_age['Survived'] == 1]['Count'])\n",
    "maxi=max(df_age[df_age['Survived'] == 1]['Count'])\n",
    "norm = matplotlib.colors.Normalize(vmin=mini, vmax=maxi)\n",
    "colors = [cmap(norm(value)) for value in df_age[df_age['Survived'] == 1]['Count']]\n",
    "# Display the percentage of survived passengers in each age group\n",
    "perc_survived = [f'{i/df_age[df_age[\"Survived\"] == 1][\"Count\"].sum()*100:5.2f}%' for i in df_age[df_age['Survived'] == 1]['Count']]\n",
    "labels_treemap = [f'{df_age[df_age[\"Survived\"] == 1][\"AgeGroup\"].iloc[i]}: {perc_survived[i]}' for i in range(len(df_age[df_age['Survived'] == 1]))]\n",
    "squarify.plot(sizes=df_age[df_age['Survived'] == 1]['Count'], label=labels_treemap, \n",
    "              alpha=.6, color=colors, text_kwargs={'fontsize':9})\n",
    "plt.title('Survived Distribution by Age Group', fontsize=15, fontweight='bold')\n",
    "plt.axis('off')\n",
    "\n",
    "plt.tight_layout()\n",
    "plt.show()"
   ]
  },
  {
   "cell_type": "markdown",
   "metadata": {},
   "source": [
    "##### The change of survival for passengers with age below 10 compared to not survival was significantly higher than other groups. The most passengers onboard in between 21 to 40 year-old, and the chance of survival for these groups was nearly equal the death. Based on the survived group, the age between 21 and 30 had the rate of survival higher than the other groups at 30.99%, and follow by the age between 31 and 40 at 28.36%. With older passengers over 60 year olds, the chance of survival was low."
   ]
  },
  {
   "cell_type": "markdown",
   "metadata": {},
   "source": [
    "#### 6. Explore feature 'Sex'"
   ]
  },
  {
   "cell_type": "code",
   "execution_count": 58,
   "metadata": {},
   "outputs": [
    {
     "data": {
      "image/png": "[encoded data removed]",
      "text/plain": [
       "<Figure size 640x480 with 1 Axes>"
      ]
     },
     "metadata": {},
     "output_type": "display_data"
    }
   ],
   "source": [
    "df_gender = df_train.groupby(['Sex', 'Survived']).size().reset_index()\n",
    "df_gender.rename(columns={0: 'Count'}, inplace=True)\n",
    "\n",
    "ax = sns.barplot(data=df_gender, x='Sex', y='Count', hue='Survived', palette=[\"#bd7ebe\", \"#5ad45a\"])\n",
    "labels_barplot = ['Not Survived', 'Survived']\n",
    "h, l = ax.get_legend_handles_labels()\n",
    "ax.legend(h, labels_barplot, title='', loc='upper left')\n",
    "sns.move_legend(ax, \"upper left\", bbox_to_anchor=(1, 1))\n",
    "plt.xlabel('')\n",
    "plt.ylabel('Total Passengers')\n",
    "\n",
    "plt.show()"
   ]
  },
  {
   "cell_type": "code",
   "execution_count": null,
   "metadata": {},
   "outputs": [],
   "source": [
    "# The relationship between gender and age for the chance of survival\n",
    "df_gender_age = df_train.groupby(['Sex', 'AgeGroup', 'Survived']).size().reset_index()\n",
    "df_gender_age.rename(columns={0: 'Count'}, inplace=True)\n",
    "graph = sns.FacetGrid(df_gender_age, row='Sex', hue='Survived', height=5, aspect=1.5, palette=[\"#bd7ebe\", \"#5ad45a\"])\n",
    "graph.map(sns.barplot, 'AgeGroup', 'Count')\n",
    "plt.show()"
   ]
  }
 ],
 "metadata": {
  "kernelspec": {
   "display_name": ".venv",
   "language": "python",
   "name": "python3"
  },
  "language_info": {
   "codemirror_mode": {
    "name": "ipython",
    "version": 3
   },
   "file_extension": ".py",
   "mimetype": "text/x-python",
   "name": "python",
   "nbconvert_exporter": "python",
   "pygments_lexer": "ipython3",
   "version": "3.9.13"
  }
 },
 "nbformat": 4,
 "nbformat_minor": 2
}
